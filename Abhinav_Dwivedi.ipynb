{
  "nbformat": 4,
  "nbformat_minor": 0,
  "metadata": {
    "colab": {
      "name": "Abhinav Dwivedi.ipynb",
      "version": "0.3.2",
      "provenance": [],
      "collapsed_sections": [],
      "toc_visible": true,
      "include_colab_link": true
    },
    "language_info": {
      "codemirror_mode": {
        "name": "ipython",
        "version": 3
      },
      "file_extension": ".py",
      "mimetype": "text/x-python",
      "name": "python",
      "nbconvert_exporter": "python",
      "pygments_lexer": "ipython3",
      "version": "3.6.6"
    },
    "kernelspec": {
      "display_name": "Python 3",
      "language": "python",
      "name": "python3"
    }
  },
  "cells": [
    {
      "cell_type": "markdown",
      "metadata": {
        "id": "view-in-github",
        "colab_type": "text"
      },
      "source": [
        "<a href=\"https://colab.research.google.com/github/abhinavdwivedi1/Churn-modelling/blob/master/Abhinav_Dwivedi.ipynb\" target=\"_parent\"><img src=\"https://colab.research.google.com/assets/colab-badge.svg\" alt=\"Open In Colab\"/></a>"
      ]
    },
    {
      "cell_type": "markdown",
      "metadata": {
        "colab_type": "text",
        "id": "S_rM3aRrAqtp"
      },
      "source": [
        "### Introduction\n",
        "\n",
        "\n",
        "**Probelm Statement:** Make a classifier which takes in a job description and gives the department name for it.\n",
        "*   Use a neural network model\n",
        "*   Make use of a pre-trained Word Embeddings (example: Word2Vec, GloVe, etc.)\n",
        "*   Calculate the accuracy on a test set (data not used to train the model)\n",
        "\n",
        "**Problem Solving Approach:** \n",
        "_Provide a brief description of steps you followed for solving this problem_\n",
        "1. Read data from json files and csv files into a pandas data frame\n",
        "2. Applying Pre-processing techniques like Tokenization, Stemming , Lemmatization etc. on data \n",
        "3. A brief analysis of the data like finding distribution of Departments and addressing the problem of class imbalance.\n",
        "4. Developing a neural network model which consists of the following layers , A Word Embedding layer pre-trained on Glove and followed by a LSTM layer and dense layer.\n",
        "5. Evaluating the trained model.\n"
      ]
    },
    {
      "cell_type": "markdown",
      "metadata": {
        "colab_type": "text",
        "id": "EeOlNtVQFrLj"
      },
      "source": [
        "### Part I: Text Preprocessing"
      ]
    },
    {
      "cell_type": "code",
      "metadata": {
        "colab_type": "code",
        "id": "VjjZZYd8F8pa",
        "colab": {}
      },
      "source": [
        ""
      ],
      "execution_count": 0,
      "outputs": []
    },
    {
      "cell_type": "code",
      "metadata": {
        "colab_type": "code",
        "id": "Y-sTBRH7HLrj",
        "outputId": "386fb39a-ba92-4ae1-bbdc-9ef325d011d3",
        "colab": {
          "base_uri": "https://localhost:8080/",
          "height": 122
        }
      },
      "source": [
        "from google.colab import drive\n",
        "drive.mount('/content/drive')"
      ],
      "execution_count": 0,
      "outputs": [
        {
          "output_type": "stream",
          "text": [
            "Go to this URL in a browser: https://accounts.google.com/o/oauth2/auth?client_id=947318989803-6bn6qk8qdgf4n4g3pfee6491hc0brc4i.apps.googleusercontent.com&redirect_uri=urn%3Aietf%3Awg%3Aoauth%3A2.0%3Aoob&scope=email%20https%3A%2F%2Fwww.googleapis.com%2Fauth%2Fdocs.test%20https%3A%2F%2Fwww.googleapis.com%2Fauth%2Fdrive%20https%3A%2F%2Fwww.googleapis.com%2Fauth%2Fdrive.photos.readonly%20https%3A%2F%2Fwww.googleapis.com%2Fauth%2Fpeopleapi.readonly&response_type=code\n",
            "\n",
            "Enter your authorization code:\n",
            "··········\n",
            "Mounted at /content/drive\n"
          ],
          "name": "stdout"
        }
      ]
    },
    {
      "cell_type": "code",
      "metadata": {
        "colab_type": "code",
        "id": "sU33e-x9HdZ2",
        "colab": {}
      },
      "source": [
        "import cv2\n",
        "import numpy\n",
        "import os\n",
        "from nltk.corpus import stopwords\n",
        "import pandas as pd\n",
        "import numpy as np\n",
        "import matplotlib.pyplot as plt\n",
        "import nltk\n",
        "from nltk.stem.porter import *\n",
        "import numpy as np\n",
        "from gensim.models import word2vec\n",
        "from sklearn import metrics\n",
        "import pandas as pd\n",
        "import time\n",
        "from pandas.io.json import json_normalize\n",
        "import json\n",
        "from tqdm import tqdm"
      ],
      "execution_count": 0,
      "outputs": []
    },
    {
      "cell_type": "code",
      "metadata": {
        "colab_type": "code",
        "id": "v9GWqCcvHrJO",
        "colab": {}
      },
      "source": [
        "file_path = \"drive/My Drive/data/docs/\""
      ],
      "execution_count": 0,
      "outputs": []
    },
    {
      "cell_type": "markdown",
      "metadata": {
        "colab_type": "text",
        "id": "fvglp3_1kpnt"
      },
      "source": [
        "Data is loaded from different json files into a pandas data frame named df indexed by the Document Id and contains two Columns *Description* and *Department*"
      ]
    },
    {
      "cell_type": "code",
      "metadata": {
        "colab_type": "code",
        "id": "U1hOz_r6H44E",
        "outputId": "cb6c881a-d581-4d98-f389-43faf0470442",
        "colab": {
          "base_uri": "https://localhost:8080/",
          "height": 34
        }
      },
      "source": [
        "dataset = {}\n",
        "labels = pd.read_csv(\"drive/My Drive/data/document_departments.csv\")\n",
        "df = pd.DataFrame()\n",
        "for doc in tqdm(os.listdir(file_path)):\n",
        "    #print(doc[0:7])\n",
        "    path = os.path.join(file_path,doc)\n",
        "    with open(path, 'r') as myfile:\n",
        "        data=myfile.read()\n",
        "    json_data = json.loads(data)\n",
        "    #print(json_data['jd_information']['description'])\n",
        "    department = labels.loc[labels['Document ID'] == int(doc[0:7])]['Department'].iloc[0]\n",
        "    df = df.append(pd.DataFrame([[json_data['jd_information']['description'],department]], columns = ['Description','Department'], index = [doc[0:7]]))\n",
        "    #jd_information = json_normalize(data=df)\n",
        "    #dataset[doc] = df"
      ],
      "execution_count": 0,
      "outputs": [
        {
          "output_type": "stream",
          "text": [
            "100%|██████████| 1162/1162 [06:46<00:00,  2.75it/s]\n"
          ],
          "name": "stderr"
        }
      ]
    },
    {
      "cell_type": "code",
      "metadata": {
        "colab_type": "code",
        "id": "mFuIOMJXILP8",
        "outputId": "58dc8984-201b-42dd-af5a-5fc2ac0f71eb",
        "colab": {
          "base_uri": "https://localhost:8080/",
          "height": 204
        }
      },
      "source": [
        "df.head()"
      ],
      "execution_count": 0,
      "outputs": [
        {
          "output_type": "execute_result",
          "data": {
            "text/html": [
              "<div>\n",
              "<style scoped>\n",
              "    .dataframe tbody tr th:only-of-type {\n",
              "        vertical-align: middle;\n",
              "    }\n",
              "\n",
              "    .dataframe tbody tr th {\n",
              "        vertical-align: top;\n",
              "    }\n",
              "\n",
              "    .dataframe thead th {\n",
              "        text-align: right;\n",
              "    }\n",
              "</style>\n",
              "<table border=\"1\" class=\"dataframe\">\n",
              "  <thead>\n",
              "    <tr style=\"text-align: right;\">\n",
              "      <th></th>\n",
              "      <th>Description</th>\n",
              "      <th>Department</th>\n",
              "    </tr>\n",
              "  </thead>\n",
              "  <tbody>\n",
              "    <tr>\n",
              "      <th>7889799</th>\n",
              "      <td>Greeting to all,dear applicant, we are hiring ...</td>\n",
              "      <td>Operations</td>\n",
              "    </tr>\n",
              "    <tr>\n",
              "      <th>7891497</th>\n",
              "      <td>URGENTLY REQUIRE A ''HOUSE DRIVER'' FOR ''K.S....</td>\n",
              "      <td>Ticketing</td>\n",
              "    </tr>\n",
              "    <tr>\n",
              "      <th>7889935</th>\n",
              "      <td>We are urgently looking for suitable candidate...</td>\n",
              "      <td>Ticketing</td>\n",
              "    </tr>\n",
              "    <tr>\n",
              "      <th>7894969</th>\n",
              "      <td>The following is the JD regarding the same.&amp;nb...</td>\n",
              "      <td>Ticketing</td>\n",
              "    </tr>\n",
              "    <tr>\n",
              "      <th>7888001</th>\n",
              "      <td>Designation: Sr.Account&amp;nbsp;Executive (ONLY F...</td>\n",
              "      <td>Finance</td>\n",
              "    </tr>\n",
              "  </tbody>\n",
              "</table>\n",
              "</div>"
            ],
            "text/plain": [
              "                                               Description  Department\n",
              "7889799  Greeting to all,dear applicant, we are hiring ...  Operations\n",
              "7891497  URGENTLY REQUIRE A ''HOUSE DRIVER'' FOR ''K.S....   Ticketing\n",
              "7889935  We are urgently looking for suitable candidate...   Ticketing\n",
              "7894969  The following is the JD regarding the same.&nb...   Ticketing\n",
              "7888001  Designation: Sr.Account&nbsp;Executive (ONLY F...     Finance"
            ]
          },
          "metadata": {
            "tags": []
          },
          "execution_count": 7
        }
      ]
    },
    {
      "cell_type": "markdown",
      "metadata": {
        "colab_type": "text",
        "id": "9alblv1rGOfS"
      },
      "source": [
        "If you observe here there are so many fields of Description which are empty i.e the value of description field in jd_information is empty. "
      ]
    },
    {
      "cell_type": "code",
      "metadata": {
        "colab_type": "code",
        "id": "dizEkAfxIWzh",
        "outputId": "a9e885df-b664-4a9a-daf2-449b9926512a",
        "colab": {
          "base_uri": "https://localhost:8080/",
          "height": 1969
        }
      },
      "source": [
        "df.loc[df['Description'] == \"\"]"
      ],
      "execution_count": 0,
      "outputs": [
        {
          "output_type": "execute_result",
          "data": {
            "text/html": [
              "<div>\n",
              "<style scoped>\n",
              "    .dataframe tbody tr th:only-of-type {\n",
              "        vertical-align: middle;\n",
              "    }\n",
              "\n",
              "    .dataframe tbody tr th {\n",
              "        vertical-align: top;\n",
              "    }\n",
              "\n",
              "    .dataframe thead th {\n",
              "        text-align: right;\n",
              "    }\n",
              "</style>\n",
              "<table border=\"1\" class=\"dataframe\">\n",
              "  <thead>\n",
              "    <tr style=\"text-align: right;\">\n",
              "      <th></th>\n",
              "      <th>Description</th>\n",
              "      <th>Department</th>\n",
              "    </tr>\n",
              "  </thead>\n",
              "  <tbody>\n",
              "    <tr>\n",
              "      <th>7899490</th>\n",
              "      <td></td>\n",
              "      <td>Ticketing</td>\n",
              "    </tr>\n",
              "    <tr>\n",
              "      <th>7899494</th>\n",
              "      <td></td>\n",
              "      <td>Ticketing</td>\n",
              "    </tr>\n",
              "    <tr>\n",
              "      <th>7899488</th>\n",
              "      <td></td>\n",
              "      <td>Ticketing</td>\n",
              "    </tr>\n",
              "    <tr>\n",
              "      <th>7899500</th>\n",
              "      <td></td>\n",
              "      <td>Ticketing</td>\n",
              "    </tr>\n",
              "    <tr>\n",
              "      <th>7913474</th>\n",
              "      <td></td>\n",
              "      <td>Ticketing</td>\n",
              "    </tr>\n",
              "    <tr>\n",
              "      <th>7913472</th>\n",
              "      <td></td>\n",
              "      <td>Ticketing</td>\n",
              "    </tr>\n",
              "    <tr>\n",
              "      <th>7913470</th>\n",
              "      <td></td>\n",
              "      <td>Finance</td>\n",
              "    </tr>\n",
              "    <tr>\n",
              "      <th>7913466</th>\n",
              "      <td></td>\n",
              "      <td>Ticketing</td>\n",
              "    </tr>\n",
              "    <tr>\n",
              "      <th>7913480</th>\n",
              "      <td></td>\n",
              "      <td>Sales</td>\n",
              "    </tr>\n",
              "    <tr>\n",
              "      <th>7922962</th>\n",
              "      <td></td>\n",
              "      <td>Ticketing</td>\n",
              "    </tr>\n",
              "    <tr>\n",
              "      <th>7922868</th>\n",
              "      <td></td>\n",
              "      <td>Ticketing</td>\n",
              "    </tr>\n",
              "    <tr>\n",
              "      <th>7918040</th>\n",
              "      <td></td>\n",
              "      <td>Ticketing</td>\n",
              "    </tr>\n",
              "    <tr>\n",
              "      <th>7923488</th>\n",
              "      <td></td>\n",
              "      <td>Sales</td>\n",
              "    </tr>\n",
              "    <tr>\n",
              "      <th>7922986</th>\n",
              "      <td></td>\n",
              "      <td>Ticketing</td>\n",
              "    </tr>\n",
              "    <tr>\n",
              "      <th>7917996</th>\n",
              "      <td></td>\n",
              "      <td>Ticketing</td>\n",
              "    </tr>\n",
              "    <tr>\n",
              "      <th>7918034</th>\n",
              "      <td></td>\n",
              "      <td>Ticketing</td>\n",
              "    </tr>\n",
              "    <tr>\n",
              "      <th>7918164</th>\n",
              "      <td></td>\n",
              "      <td>Sales</td>\n",
              "    </tr>\n",
              "    <tr>\n",
              "      <th>7930606</th>\n",
              "      <td></td>\n",
              "      <td>Sales</td>\n",
              "    </tr>\n",
              "    <tr>\n",
              "      <th>7930630</th>\n",
              "      <td></td>\n",
              "      <td>Customer service</td>\n",
              "    </tr>\n",
              "    <tr>\n",
              "      <th>7930622</th>\n",
              "      <td></td>\n",
              "      <td>Sales</td>\n",
              "    </tr>\n",
              "    <tr>\n",
              "      <th>7930626</th>\n",
              "      <td></td>\n",
              "      <td>Marketing</td>\n",
              "    </tr>\n",
              "    <tr>\n",
              "      <th>7930568</th>\n",
              "      <td></td>\n",
              "      <td>Sales</td>\n",
              "    </tr>\n",
              "    <tr>\n",
              "      <th>7928806</th>\n",
              "      <td></td>\n",
              "      <td>Ticketing</td>\n",
              "    </tr>\n",
              "    <tr>\n",
              "      <th>7930636</th>\n",
              "      <td></td>\n",
              "      <td>Operations</td>\n",
              "    </tr>\n",
              "    <tr>\n",
              "      <th>7930648</th>\n",
              "      <td></td>\n",
              "      <td>Finance</td>\n",
              "    </tr>\n",
              "    <tr>\n",
              "      <th>7930642</th>\n",
              "      <td></td>\n",
              "      <td>Customer service</td>\n",
              "    </tr>\n",
              "    <tr>\n",
              "      <th>7931446</th>\n",
              "      <td></td>\n",
              "      <td>Sales</td>\n",
              "    </tr>\n",
              "    <tr>\n",
              "      <th>7934066</th>\n",
              "      <td></td>\n",
              "      <td>Ticketing</td>\n",
              "    </tr>\n",
              "    <tr>\n",
              "      <th>7930692</th>\n",
              "      <td></td>\n",
              "      <td>Sales</td>\n",
              "    </tr>\n",
              "    <tr>\n",
              "      <th>7931456</th>\n",
              "      <td></td>\n",
              "      <td>Sales</td>\n",
              "    </tr>\n",
              "    <tr>\n",
              "      <th>...</th>\n",
              "      <td>...</td>\n",
              "      <td>...</td>\n",
              "    </tr>\n",
              "    <tr>\n",
              "      <th>7830886</th>\n",
              "      <td></td>\n",
              "      <td>Ticketing</td>\n",
              "    </tr>\n",
              "    <tr>\n",
              "      <th>7830874</th>\n",
              "      <td></td>\n",
              "      <td>Ticketing</td>\n",
              "    </tr>\n",
              "    <tr>\n",
              "      <th>7830878</th>\n",
              "      <td></td>\n",
              "      <td>Ticketing</td>\n",
              "    </tr>\n",
              "    <tr>\n",
              "      <th>7830884</th>\n",
              "      <td></td>\n",
              "      <td>Management Consulting</td>\n",
              "    </tr>\n",
              "    <tr>\n",
              "      <th>7830882</th>\n",
              "      <td></td>\n",
              "      <td>Customer service</td>\n",
              "    </tr>\n",
              "    <tr>\n",
              "      <th>7830888</th>\n",
              "      <td></td>\n",
              "      <td>Sales</td>\n",
              "    </tr>\n",
              "    <tr>\n",
              "      <th>7831591</th>\n",
              "      <td></td>\n",
              "      <td>Sales</td>\n",
              "    </tr>\n",
              "    <tr>\n",
              "      <th>7831530</th>\n",
              "      <td></td>\n",
              "      <td>Sales</td>\n",
              "    </tr>\n",
              "    <tr>\n",
              "      <th>7831498</th>\n",
              "      <td></td>\n",
              "      <td>Sales</td>\n",
              "    </tr>\n",
              "    <tr>\n",
              "      <th>7846646</th>\n",
              "      <td></td>\n",
              "      <td>Customer service</td>\n",
              "    </tr>\n",
              "    <tr>\n",
              "      <th>7852728</th>\n",
              "      <td></td>\n",
              "      <td>Finance</td>\n",
              "    </tr>\n",
              "    <tr>\n",
              "      <th>7853356</th>\n",
              "      <td></td>\n",
              "      <td>Ticketing</td>\n",
              "    </tr>\n",
              "    <tr>\n",
              "      <th>7860744</th>\n",
              "      <td></td>\n",
              "      <td>Customer service</td>\n",
              "    </tr>\n",
              "    <tr>\n",
              "      <th>7860738</th>\n",
              "      <td></td>\n",
              "      <td>Operations</td>\n",
              "    </tr>\n",
              "    <tr>\n",
              "      <th>7860736</th>\n",
              "      <td></td>\n",
              "      <td>Operations</td>\n",
              "    </tr>\n",
              "    <tr>\n",
              "      <th>7860748</th>\n",
              "      <td></td>\n",
              "      <td>Finance</td>\n",
              "    </tr>\n",
              "    <tr>\n",
              "      <th>7870556</th>\n",
              "      <td></td>\n",
              "      <td>Flight Operations</td>\n",
              "    </tr>\n",
              "    <tr>\n",
              "      <th>7863394</th>\n",
              "      <td></td>\n",
              "      <td>Sales</td>\n",
              "    </tr>\n",
              "    <tr>\n",
              "      <th>7860770</th>\n",
              "      <td></td>\n",
              "      <td>Sales</td>\n",
              "    </tr>\n",
              "    <tr>\n",
              "      <th>7861674</th>\n",
              "      <td></td>\n",
              "      <td>Ticketing</td>\n",
              "    </tr>\n",
              "    <tr>\n",
              "      <th>7863392</th>\n",
              "      <td></td>\n",
              "      <td>Sales</td>\n",
              "    </tr>\n",
              "    <tr>\n",
              "      <th>7871926</th>\n",
              "      <td></td>\n",
              "      <td>Ticketing</td>\n",
              "    </tr>\n",
              "    <tr>\n",
              "      <th>7871964</th>\n",
              "      <td></td>\n",
              "      <td>Ticketing</td>\n",
              "    </tr>\n",
              "    <tr>\n",
              "      <th>7871984</th>\n",
              "      <td></td>\n",
              "      <td>Ticketing</td>\n",
              "    </tr>\n",
              "    <tr>\n",
              "      <th>7871976</th>\n",
              "      <td></td>\n",
              "      <td>Ticketing</td>\n",
              "    </tr>\n",
              "    <tr>\n",
              "      <th>7871986</th>\n",
              "      <td></td>\n",
              "      <td>Ticketing</td>\n",
              "    </tr>\n",
              "    <tr>\n",
              "      <th>7871942</th>\n",
              "      <td></td>\n",
              "      <td>Engineering Design Construction</td>\n",
              "    </tr>\n",
              "    <tr>\n",
              "      <th>7878736</th>\n",
              "      <td></td>\n",
              "      <td>Sales</td>\n",
              "    </tr>\n",
              "    <tr>\n",
              "      <th>7886593</th>\n",
              "      <td></td>\n",
              "      <td>Finance</td>\n",
              "    </tr>\n",
              "    <tr>\n",
              "      <th>7881493</th>\n",
              "      <td></td>\n",
              "      <td>Operations</td>\n",
              "    </tr>\n",
              "  </tbody>\n",
              "</table>\n",
              "<p>417 rows × 2 columns</p>\n",
              "</div>"
            ],
            "text/plain": [
              "        Description                       Department\n",
              "7899490                                    Ticketing\n",
              "7899494                                    Ticketing\n",
              "7899488                                    Ticketing\n",
              "7899500                                    Ticketing\n",
              "7913474                                    Ticketing\n",
              "7913472                                    Ticketing\n",
              "7913470                                      Finance\n",
              "7913466                                    Ticketing\n",
              "7913480                                        Sales\n",
              "7922962                                    Ticketing\n",
              "7922868                                    Ticketing\n",
              "7918040                                    Ticketing\n",
              "7923488                                        Sales\n",
              "7922986                                    Ticketing\n",
              "7917996                                    Ticketing\n",
              "7918034                                    Ticketing\n",
              "7918164                                        Sales\n",
              "7930606                                        Sales\n",
              "7930630                             Customer service\n",
              "7930622                                        Sales\n",
              "7930626                                    Marketing\n",
              "7930568                                        Sales\n",
              "7928806                                    Ticketing\n",
              "7930636                                   Operations\n",
              "7930648                                      Finance\n",
              "7930642                             Customer service\n",
              "7931446                                        Sales\n",
              "7934066                                    Ticketing\n",
              "7930692                                        Sales\n",
              "7931456                                        Sales\n",
              "...             ...                              ...\n",
              "7830886                                    Ticketing\n",
              "7830874                                    Ticketing\n",
              "7830878                                    Ticketing\n",
              "7830884                        Management Consulting\n",
              "7830882                             Customer service\n",
              "7830888                                        Sales\n",
              "7831591                                        Sales\n",
              "7831530                                        Sales\n",
              "7831498                                        Sales\n",
              "7846646                             Customer service\n",
              "7852728                                      Finance\n",
              "7853356                                    Ticketing\n",
              "7860744                             Customer service\n",
              "7860738                                   Operations\n",
              "7860736                                   Operations\n",
              "7860748                                      Finance\n",
              "7870556                            Flight Operations\n",
              "7863394                                        Sales\n",
              "7860770                                        Sales\n",
              "7861674                                    Ticketing\n",
              "7863392                                        Sales\n",
              "7871926                                    Ticketing\n",
              "7871964                                    Ticketing\n",
              "7871984                                    Ticketing\n",
              "7871976                                    Ticketing\n",
              "7871986                                    Ticketing\n",
              "7871942              Engineering Design Construction\n",
              "7878736                                        Sales\n",
              "7886593                                      Finance\n",
              "7881493                                   Operations\n",
              "\n",
              "[417 rows x 2 columns]"
            ]
          },
          "metadata": {
            "tags": []
          },
          "execution_count": 8
        }
      ]
    },
    {
      "cell_type": "markdown",
      "metadata": {
        "colab_type": "text",
        "id": "AQpoaZ2BG6Oq"
      },
      "source": [
        "So here we are gonna to remove those fields"
      ]
    },
    {
      "cell_type": "code",
      "metadata": {
        "colab_type": "code",
        "id": "MzRN-MB1KSWz",
        "colab": {}
      },
      "source": [
        "df = df[df.Description != '']"
      ],
      "execution_count": 0,
      "outputs": []
    },
    {
      "cell_type": "code",
      "metadata": {
        "colab_type": "code",
        "id": "byr5zuuZKFaX",
        "outputId": "76779e23-87f8-4c4c-ad69-6bd9de09a19e",
        "colab": {
          "base_uri": "https://localhost:8080/",
          "height": 153
        }
      },
      "source": [
        "print(df.info())"
      ],
      "execution_count": 0,
      "outputs": [
        {
          "output_type": "stream",
          "text": [
            "<class 'pandas.core.frame.DataFrame'>\n",
            "Index: 745 entries, 7889799 to 7889695\n",
            "Data columns (total 2 columns):\n",
            "Description    745 non-null object\n",
            "Department     745 non-null object\n",
            "dtypes: object(2)\n",
            "memory usage: 17.5+ KB\n",
            "None\n"
          ],
          "name": "stdout"
        }
      ]
    },
    {
      "cell_type": "markdown",
      "metadata": {
        "colab_type": "text",
        "id": "dBVicD6MK2X6"
      },
      "source": [
        "## Data Pre-Processing"
      ]
    },
    {
      "cell_type": "markdown",
      "metadata": {
        "colab_type": "text",
        "id": "YN84j0L1mqpK"
      },
      "source": [
        "So here we have performed of the NLP pre-processing steps on our text. "
      ]
    },
    {
      "cell_type": "markdown",
      "metadata": {
        "colab_type": "text",
        "id": "O7jstXawK8rB"
      },
      "source": [
        "### Decontraction Mapping for the words"
      ]
    },
    {
      "cell_type": "code",
      "metadata": {
        "colab_type": "code",
        "id": "Fz8piKS7LFn8",
        "colab": {}
      },
      "source": [
        "def decontracted(phrase):\n",
        "    phrase = re.sub(r\"won't\", \"will not\", phrase)\n",
        "    phrase = re.sub(r\"can\\'t\", \"can not\", phrase)\n",
        "    phrase = re.sub(r\"n\\'t\", \" not\", phrase)\n",
        "    phrase = re.sub(r\"\\'re\", \" are\", phrase)\n",
        "    phrase = re.sub(r\"\\'s\", \" is\", phrase)\n",
        "    phrase = re.sub(r\"\\'d\", \" would\", phrase)\n",
        "    phrase = re.sub(r\"\\'ll\", \" will\", phrase)\n",
        "    phrase = re.sub(r\"\\'t\", \" not\", phrase)\n",
        "    phrase = re.sub(r\"\\'ve\", \" have\", phrase)\n",
        "    phrase = re.sub(r\"\\'m\", \" am\", phrase)\n",
        "    return phrase"
      ],
      "execution_count": 0,
      "outputs": []
    },
    {
      "cell_type": "code",
      "metadata": {
        "colab_type": "code",
        "id": "1psN5n_3LOHL",
        "colab": {}
      },
      "source": [
        "v = df.apply(lambda row: decontracted(row['Description']), axis=1)"
      ],
      "execution_count": 0,
      "outputs": []
    },
    {
      "cell_type": "code",
      "metadata": {
        "colab_type": "code",
        "id": "w58NjrZFLQq1",
        "colab": {}
      },
      "source": [
        "df['Description'] = v"
      ],
      "execution_count": 0,
      "outputs": []
    },
    {
      "cell_type": "code",
      "metadata": {
        "colab_type": "code",
        "id": "tZiLzTsoLTkm",
        "outputId": "f31eb0d7-500b-4fe3-8a83-2465bc64f4c2",
        "colab": {
          "base_uri": "https://localhost:8080/",
          "height": 204
        }
      },
      "source": [
        "df.head(5)"
      ],
      "execution_count": 0,
      "outputs": [
        {
          "output_type": "execute_result",
          "data": {
            "text/html": [
              "<div>\n",
              "<style scoped>\n",
              "    .dataframe tbody tr th:only-of-type {\n",
              "        vertical-align: middle;\n",
              "    }\n",
              "\n",
              "    .dataframe tbody tr th {\n",
              "        vertical-align: top;\n",
              "    }\n",
              "\n",
              "    .dataframe thead th {\n",
              "        text-align: right;\n",
              "    }\n",
              "</style>\n",
              "<table border=\"1\" class=\"dataframe\">\n",
              "  <thead>\n",
              "    <tr style=\"text-align: right;\">\n",
              "      <th></th>\n",
              "      <th>Description</th>\n",
              "      <th>Department</th>\n",
              "    </tr>\n",
              "  </thead>\n",
              "  <tbody>\n",
              "    <tr>\n",
              "      <th>7889799</th>\n",
              "      <td>Greeting to all,dear applicant, we are hiring ...</td>\n",
              "      <td>Operations</td>\n",
              "    </tr>\n",
              "    <tr>\n",
              "      <th>7891497</th>\n",
              "      <td>URGENTLY REQUIRE A ''HOUSE DRIVER'' FOR ''K.S....</td>\n",
              "      <td>Ticketing</td>\n",
              "    </tr>\n",
              "    <tr>\n",
              "      <th>7889935</th>\n",
              "      <td>We are urgently looking for suitable candidate...</td>\n",
              "      <td>Ticketing</td>\n",
              "    </tr>\n",
              "    <tr>\n",
              "      <th>7894969</th>\n",
              "      <td>The following is the JD regarding the same.&amp;nb...</td>\n",
              "      <td>Ticketing</td>\n",
              "    </tr>\n",
              "    <tr>\n",
              "      <th>7888001</th>\n",
              "      <td>Designation: Sr.Account&amp;nbsp;Executive (ONLY F...</td>\n",
              "      <td>Finance</td>\n",
              "    </tr>\n",
              "  </tbody>\n",
              "</table>\n",
              "</div>"
            ],
            "text/plain": [
              "                                               Description  Department\n",
              "7889799  Greeting to all,dear applicant, we are hiring ...  Operations\n",
              "7891497  URGENTLY REQUIRE A ''HOUSE DRIVER'' FOR ''K.S....   Ticketing\n",
              "7889935  We are urgently looking for suitable candidate...   Ticketing\n",
              "7894969  The following is the JD regarding the same.&nb...   Ticketing\n",
              "7888001  Designation: Sr.Account&nbsp;Executive (ONLY F...     Finance"
            ]
          },
          "metadata": {
            "tags": []
          },
          "execution_count": 17
        }
      ]
    },
    {
      "cell_type": "markdown",
      "metadata": {
        "colab_type": "text",
        "id": "ZF_2iKViLrHR"
      },
      "source": [
        "### Cleaning the text- Punctuation Cleaner"
      ]
    },
    {
      "cell_type": "code",
      "metadata": {
        "colab_type": "code",
        "id": "caF8jeQ3Lt1x",
        "outputId": "2b7e1f37-c53e-4afb-92df-3cb5de002474",
        "colab": {
          "base_uri": "https://localhost:8080/",
          "height": 359
        }
      },
      "source": [
        "import string\n",
        "punctuations=string.punctuation\n",
        "def remove_punct(text):\n",
        "    text  = \"\".join([char for char in text if char not in string.punctuation])\n",
        "    text = re.sub('[0-9]+', '', text)\n",
        "    return text\n",
        "df['Description']=df['Description'].apply(lambda x:remove_punct(x))\n",
        "df.head(10)"
      ],
      "execution_count": 0,
      "outputs": [
        {
          "output_type": "execute_result",
          "data": {
            "text/html": [
              "<div>\n",
              "<style scoped>\n",
              "    .dataframe tbody tr th:only-of-type {\n",
              "        vertical-align: middle;\n",
              "    }\n",
              "\n",
              "    .dataframe tbody tr th {\n",
              "        vertical-align: top;\n",
              "    }\n",
              "\n",
              "    .dataframe thead th {\n",
              "        text-align: right;\n",
              "    }\n",
              "</style>\n",
              "<table border=\"1\" class=\"dataframe\">\n",
              "  <thead>\n",
              "    <tr style=\"text-align: right;\">\n",
              "      <th></th>\n",
              "      <th>Description</th>\n",
              "      <th>Department</th>\n",
              "    </tr>\n",
              "  </thead>\n",
              "  <tbody>\n",
              "    <tr>\n",
              "      <th>7889799</th>\n",
              "      <td>Greeting to alldear applicant we are hiring fo...</td>\n",
              "      <td>Operations</td>\n",
              "    </tr>\n",
              "    <tr>\n",
              "      <th>7891497</th>\n",
              "      <td>URGENTLY REQUIRE A HOUSE DRIVER FOR KSA KINGDO...</td>\n",
              "      <td>Ticketing</td>\n",
              "    </tr>\n",
              "    <tr>\n",
              "      <th>7889935</th>\n",
              "      <td>We are urgently looking for suitable candidate...</td>\n",
              "      <td>Ticketing</td>\n",
              "    </tr>\n",
              "    <tr>\n",
              "      <th>7894969</th>\n",
              "      <td>The following is the JD regarding the samenbsp...</td>\n",
              "      <td>Ticketing</td>\n",
              "    </tr>\n",
              "    <tr>\n",
              "      <th>7888001</th>\n",
              "      <td>Designation SrAccountnbspExecutive ONLY FOR MA...</td>\n",
              "      <td>Finance</td>\n",
              "    </tr>\n",
              "    <tr>\n",
              "      <th>7889693</th>\n",
              "      <td>Dear CandidatesGreetings We are hiring for the...</td>\n",
              "      <td>Sales</td>\n",
              "    </tr>\n",
              "    <tr>\n",
              "      <th>7889431</th>\n",
              "      <td>hello candidateswe have a Mega drive for inter...</td>\n",
              "      <td>Customer service</td>\n",
              "    </tr>\n",
              "    <tr>\n",
              "      <th>7889689</th>\n",
              "      <td>Dear CandidatesGreetings nbspWe are hiring for...</td>\n",
              "      <td>Sales</td>\n",
              "    </tr>\n",
              "    <tr>\n",
              "      <th>7895011</th>\n",
              "      <td>Brief job profilenbspbull Develop content for ...</td>\n",
              "      <td>Content</td>\n",
              "    </tr>\n",
              "    <tr>\n",
              "      <th>7903427</th>\n",
              "      <td>Location Panjim Vapi Pune Girgaon Opera HouseS...</td>\n",
              "      <td>Ticketing</td>\n",
              "    </tr>\n",
              "  </tbody>\n",
              "</table>\n",
              "</div>"
            ],
            "text/plain": [
              "                                               Description        Department\n",
              "7889799  Greeting to alldear applicant we are hiring fo...        Operations\n",
              "7891497  URGENTLY REQUIRE A HOUSE DRIVER FOR KSA KINGDO...         Ticketing\n",
              "7889935  We are urgently looking for suitable candidate...         Ticketing\n",
              "7894969  The following is the JD regarding the samenbsp...         Ticketing\n",
              "7888001  Designation SrAccountnbspExecutive ONLY FOR MA...           Finance\n",
              "7889693  Dear CandidatesGreetings We are hiring for the...             Sales\n",
              "7889431  hello candidateswe have a Mega drive for inter...  Customer service\n",
              "7889689  Dear CandidatesGreetings nbspWe are hiring for...             Sales\n",
              "7895011  Brief job profilenbspbull Develop content for ...           Content\n",
              "7903427  Location Panjim Vapi Pune Girgaon Opera HouseS...         Ticketing"
            ]
          },
          "metadata": {
            "tags": []
          },
          "execution_count": 18
        }
      ]
    },
    {
      "cell_type": "markdown",
      "metadata": {
        "colab_type": "text",
        "id": "4d2yi8KoL22H"
      },
      "source": [
        "### Tokenization"
      ]
    },
    {
      "cell_type": "code",
      "metadata": {
        "colab_type": "code",
        "id": "6RVKE5QyL5PG",
        "colab": {}
      },
      "source": [
        "import nltk"
      ],
      "execution_count": 0,
      "outputs": []
    },
    {
      "cell_type": "code",
      "metadata": {
        "colab_type": "code",
        "id": "ykreQfdvMD7e",
        "outputId": "02dff36d-9d67-48b4-ef3b-744ea677e5cc",
        "colab": {
          "base_uri": "https://localhost:8080/",
          "height": 816
        }
      },
      "source": [
        "nltk.download(\"popular\")"
      ],
      "execution_count": 0,
      "outputs": [
        {
          "output_type": "stream",
          "text": [
            "[nltk_data] Downloading collection 'popular'\n",
            "[nltk_data]    | \n",
            "[nltk_data]    | Downloading package cmudict to /root/nltk_data...\n",
            "[nltk_data]    |   Unzipping corpora/cmudict.zip.\n",
            "[nltk_data]    | Downloading package gazetteers to /root/nltk_data...\n",
            "[nltk_data]    |   Unzipping corpora/gazetteers.zip.\n",
            "[nltk_data]    | Downloading package genesis to /root/nltk_data...\n",
            "[nltk_data]    |   Unzipping corpora/genesis.zip.\n",
            "[nltk_data]    | Downloading package gutenberg to /root/nltk_data...\n",
            "[nltk_data]    |   Unzipping corpora/gutenberg.zip.\n",
            "[nltk_data]    | Downloading package inaugural to /root/nltk_data...\n",
            "[nltk_data]    |   Unzipping corpora/inaugural.zip.\n",
            "[nltk_data]    | Downloading package movie_reviews to\n",
            "[nltk_data]    |     /root/nltk_data...\n",
            "[nltk_data]    |   Unzipping corpora/movie_reviews.zip.\n",
            "[nltk_data]    | Downloading package names to /root/nltk_data...\n",
            "[nltk_data]    |   Unzipping corpora/names.zip.\n",
            "[nltk_data]    | Downloading package shakespeare to /root/nltk_data...\n",
            "[nltk_data]    |   Unzipping corpora/shakespeare.zip.\n",
            "[nltk_data]    | Downloading package stopwords to /root/nltk_data...\n",
            "[nltk_data]    |   Unzipping corpora/stopwords.zip.\n",
            "[nltk_data]    | Downloading package treebank to /root/nltk_data...\n",
            "[nltk_data]    |   Unzipping corpora/treebank.zip.\n",
            "[nltk_data]    | Downloading package twitter_samples to\n",
            "[nltk_data]    |     /root/nltk_data...\n",
            "[nltk_data]    |   Unzipping corpora/twitter_samples.zip.\n",
            "[nltk_data]    | Downloading package omw to /root/nltk_data...\n",
            "[nltk_data]    |   Unzipping corpora/omw.zip.\n",
            "[nltk_data]    | Downloading package wordnet to /root/nltk_data...\n",
            "[nltk_data]    |   Unzipping corpora/wordnet.zip.\n",
            "[nltk_data]    | Downloading package wordnet_ic to /root/nltk_data...\n",
            "[nltk_data]    |   Unzipping corpora/wordnet_ic.zip.\n",
            "[nltk_data]    | Downloading package words to /root/nltk_data...\n",
            "[nltk_data]    |   Unzipping corpora/words.zip.\n",
            "[nltk_data]    | Downloading package maxent_ne_chunker to\n",
            "[nltk_data]    |     /root/nltk_data...\n",
            "[nltk_data]    |   Unzipping chunkers/maxent_ne_chunker.zip.\n",
            "[nltk_data]    | Downloading package punkt to /root/nltk_data...\n",
            "[nltk_data]    |   Unzipping tokenizers/punkt.zip.\n",
            "[nltk_data]    | Downloading package snowball_data to\n",
            "[nltk_data]    |     /root/nltk_data...\n",
            "[nltk_data]    | Downloading package averaged_perceptron_tagger to\n",
            "[nltk_data]    |     /root/nltk_data...\n",
            "[nltk_data]    |   Unzipping taggers/averaged_perceptron_tagger.zip.\n",
            "[nltk_data]    | \n",
            "[nltk_data]  Done downloading collection popular\n"
          ],
          "name": "stdout"
        },
        {
          "output_type": "execute_result",
          "data": {
            "text/plain": [
              "True"
            ]
          },
          "metadata": {
            "tags": []
          },
          "execution_count": 20
        }
      ]
    },
    {
      "cell_type": "code",
      "metadata": {
        "colab_type": "code",
        "id": "fQNXSmNSL88D",
        "colab": {}
      },
      "source": [
        "df['tokenized_description']=df.apply(lambda row:nltk.word_tokenize(row['Description']),axis=1 )"
      ],
      "execution_count": 0,
      "outputs": []
    },
    {
      "cell_type": "code",
      "metadata": {
        "colab_type": "code",
        "id": "rGLzU1D3L_qG",
        "outputId": "90415b52-232d-42a5-f1c2-e69b5d80391a",
        "colab": {
          "base_uri": "https://localhost:8080/",
          "height": 221
        }
      },
      "source": [
        "df.head()"
      ],
      "execution_count": 0,
      "outputs": [
        {
          "output_type": "execute_result",
          "data": {
            "text/html": [
              "<div>\n",
              "<style scoped>\n",
              "    .dataframe tbody tr th:only-of-type {\n",
              "        vertical-align: middle;\n",
              "    }\n",
              "\n",
              "    .dataframe tbody tr th {\n",
              "        vertical-align: top;\n",
              "    }\n",
              "\n",
              "    .dataframe thead th {\n",
              "        text-align: right;\n",
              "    }\n",
              "</style>\n",
              "<table border=\"1\" class=\"dataframe\">\n",
              "  <thead>\n",
              "    <tr style=\"text-align: right;\">\n",
              "      <th></th>\n",
              "      <th>Description</th>\n",
              "      <th>Department</th>\n",
              "      <th>tokenized_description</th>\n",
              "    </tr>\n",
              "  </thead>\n",
              "  <tbody>\n",
              "    <tr>\n",
              "      <th>7889799</th>\n",
              "      <td>Greeting to alldear applicant we are hiring fo...</td>\n",
              "      <td>Operations</td>\n",
              "      <td>[Greeting, to, alldear, applicant, we, are, hi...</td>\n",
              "    </tr>\n",
              "    <tr>\n",
              "      <th>7891497</th>\n",
              "      <td>URGENTLY REQUIRE A HOUSE DRIVER FOR KSA KINGDO...</td>\n",
              "      <td>Ticketing</td>\n",
              "      <td>[URGENTLY, REQUIRE, A, HOUSE, DRIVER, FOR, KSA...</td>\n",
              "    </tr>\n",
              "    <tr>\n",
              "      <th>7889935</th>\n",
              "      <td>We are urgently looking for suitable candidate...</td>\n",
              "      <td>Ticketing</td>\n",
              "      <td>[We, are, urgently, looking, for, suitable, ca...</td>\n",
              "    </tr>\n",
              "    <tr>\n",
              "      <th>7894969</th>\n",
              "      <td>The following is the JD regarding the samenbsp...</td>\n",
              "      <td>Ticketing</td>\n",
              "      <td>[The, following, is, the, JD, regarding, the, ...</td>\n",
              "    </tr>\n",
              "    <tr>\n",
              "      <th>7888001</th>\n",
              "      <td>Designation SrAccountnbspExecutive ONLY FOR MA...</td>\n",
              "      <td>Finance</td>\n",
              "      <td>[Designation, SrAccountnbspExecutive, ONLY, FO...</td>\n",
              "    </tr>\n",
              "  </tbody>\n",
              "</table>\n",
              "</div>"
            ],
            "text/plain": [
              "                                               Description  ...                              tokenized_description\n",
              "7889799  Greeting to alldear applicant we are hiring fo...  ...  [Greeting, to, alldear, applicant, we, are, hi...\n",
              "7891497  URGENTLY REQUIRE A HOUSE DRIVER FOR KSA KINGDO...  ...  [URGENTLY, REQUIRE, A, HOUSE, DRIVER, FOR, KSA...\n",
              "7889935  We are urgently looking for suitable candidate...  ...  [We, are, urgently, looking, for, suitable, ca...\n",
              "7894969  The following is the JD regarding the samenbsp...  ...  [The, following, is, the, JD, regarding, the, ...\n",
              "7888001  Designation SrAccountnbspExecutive ONLY FOR MA...  ...  [Designation, SrAccountnbspExecutive, ONLY, FO...\n",
              "\n",
              "[5 rows x 3 columns]"
            ]
          },
          "metadata": {
            "tags": []
          },
          "execution_count": 22
        }
      ]
    },
    {
      "cell_type": "markdown",
      "metadata": {
        "colab_type": "text",
        "id": "74_E0WeMMTOT"
      },
      "source": [
        "### Removing Stop Words"
      ]
    },
    {
      "cell_type": "code",
      "metadata": {
        "colab_type": "code",
        "id": "Gosr_CQGMdsT",
        "outputId": "a3f897d5-d7f4-4743-e9e3-61ffeb1cc62a",
        "colab": {
          "base_uri": "https://localhost:8080/",
          "height": 68
        }
      },
      "source": [
        "nltk.download('stopwords')"
      ],
      "execution_count": 0,
      "outputs": [
        {
          "output_type": "stream",
          "text": [
            "[nltk_data] Downloading package stopwords to /root/nltk_data...\n",
            "[nltk_data]   Package stopwords is already up-to-date!\n"
          ],
          "name": "stdout"
        },
        {
          "output_type": "execute_result",
          "data": {
            "text/plain": [
              "True"
            ]
          },
          "metadata": {
            "tags": []
          },
          "execution_count": 23
        }
      ]
    },
    {
      "cell_type": "code",
      "metadata": {
        "colab_type": "code",
        "id": "8mPjbs1-MUo0",
        "colab": {}
      },
      "source": [
        "stopword = nltk.corpus.stopwords.words('english')\n",
        "def remove_stopwords(text):\n",
        "    text = [word for word in text if word not in stopword]\n",
        "    return text"
      ],
      "execution_count": 0,
      "outputs": []
    },
    {
      "cell_type": "code",
      "metadata": {
        "colab_type": "code",
        "id": "CWAnogjKMYjG",
        "colab": {}
      },
      "source": [
        "\n",
        "df['tokenized_description']=df['tokenized_description'].apply(lambda x: remove_stopwords(x))"
      ],
      "execution_count": 0,
      "outputs": []
    },
    {
      "cell_type": "code",
      "metadata": {
        "colab_type": "code",
        "id": "Rhxj9-dSMgz5",
        "outputId": "45bd392d-cfcc-4497-e4da-c1b51f9f2201",
        "colab": {
          "base_uri": "https://localhost:8080/",
          "height": 221
        }
      },
      "source": [
        "df.head()"
      ],
      "execution_count": 0,
      "outputs": [
        {
          "output_type": "execute_result",
          "data": {
            "text/html": [
              "<div>\n",
              "<style scoped>\n",
              "    .dataframe tbody tr th:only-of-type {\n",
              "        vertical-align: middle;\n",
              "    }\n",
              "\n",
              "    .dataframe tbody tr th {\n",
              "        vertical-align: top;\n",
              "    }\n",
              "\n",
              "    .dataframe thead th {\n",
              "        text-align: right;\n",
              "    }\n",
              "</style>\n",
              "<table border=\"1\" class=\"dataframe\">\n",
              "  <thead>\n",
              "    <tr style=\"text-align: right;\">\n",
              "      <th></th>\n",
              "      <th>Description</th>\n",
              "      <th>Department</th>\n",
              "      <th>tokenized_description</th>\n",
              "    </tr>\n",
              "  </thead>\n",
              "  <tbody>\n",
              "    <tr>\n",
              "      <th>7889799</th>\n",
              "      <td>Greeting to alldear applicant we are hiring fo...</td>\n",
              "      <td>Operations</td>\n",
              "      <td>[Greeting, alldear, applicant, hiring, bussine...</td>\n",
              "    </tr>\n",
              "    <tr>\n",
              "      <th>7891497</th>\n",
              "      <td>URGENTLY REQUIRE A HOUSE DRIVER FOR KSA KINGDO...</td>\n",
              "      <td>Ticketing</td>\n",
              "      <td>[URGENTLY, REQUIRE, A, HOUSE, DRIVER, FOR, KSA...</td>\n",
              "    </tr>\n",
              "    <tr>\n",
              "      <th>7889935</th>\n",
              "      <td>We are urgently looking for suitable candidate...</td>\n",
              "      <td>Ticketing</td>\n",
              "      <td>[We, urgently, looking, suitable, candidates, ...</td>\n",
              "    </tr>\n",
              "    <tr>\n",
              "      <th>7894969</th>\n",
              "      <td>The following is the JD regarding the samenbsp...</td>\n",
              "      <td>Ticketing</td>\n",
              "      <td>[The, following, JD, regarding, samenbspnbspSe...</td>\n",
              "    </tr>\n",
              "    <tr>\n",
              "      <th>7888001</th>\n",
              "      <td>Designation SrAccountnbspExecutive ONLY FOR MA...</td>\n",
              "      <td>Finance</td>\n",
              "      <td>[Designation, SrAccountnbspExecutive, ONLY, FO...</td>\n",
              "    </tr>\n",
              "  </tbody>\n",
              "</table>\n",
              "</div>"
            ],
            "text/plain": [
              "                                               Description  ...                              tokenized_description\n",
              "7889799  Greeting to alldear applicant we are hiring fo...  ...  [Greeting, alldear, applicant, hiring, bussine...\n",
              "7891497  URGENTLY REQUIRE A HOUSE DRIVER FOR KSA KINGDO...  ...  [URGENTLY, REQUIRE, A, HOUSE, DRIVER, FOR, KSA...\n",
              "7889935  We are urgently looking for suitable candidate...  ...  [We, urgently, looking, suitable, candidates, ...\n",
              "7894969  The following is the JD regarding the samenbsp...  ...  [The, following, JD, regarding, samenbspnbspSe...\n",
              "7888001  Designation SrAccountnbspExecutive ONLY FOR MA...  ...  [Designation, SrAccountnbspExecutive, ONLY, FO...\n",
              "\n",
              "[5 rows x 3 columns]"
            ]
          },
          "metadata": {
            "tags": []
          },
          "execution_count": 26
        }
      ]
    },
    {
      "cell_type": "markdown",
      "metadata": {
        "colab_type": "text",
        "id": "f4N1NgmnMtlQ"
      },
      "source": [
        "### Stemming"
      ]
    },
    {
      "cell_type": "code",
      "metadata": {
        "colab_type": "code",
        "id": "DvZ1PRNkMvFE",
        "colab": {}
      },
      "source": [
        "ps = nltk.PorterStemmer()\n",
        "def text_stemmer(text):\n",
        "    text = [ps.stem(word) for word in text]\n",
        "    return text"
      ],
      "execution_count": 0,
      "outputs": []
    },
    {
      "cell_type": "code",
      "metadata": {
        "colab_type": "code",
        "id": "9pYo4MEWMxrt",
        "colab": {}
      },
      "source": [
        "df['tokenized_description']=df['tokenized_description'].apply(lambda x: text_stemmer(x))"
      ],
      "execution_count": 0,
      "outputs": []
    },
    {
      "cell_type": "code",
      "metadata": {
        "colab_type": "code",
        "id": "ymbkD8pVM1FD",
        "outputId": "92285e64-ed02-416b-8245-8e126a3b42ce",
        "colab": {
          "base_uri": "https://localhost:8080/",
          "height": 204
        }
      },
      "source": [
        "df.head()"
      ],
      "execution_count": 0,
      "outputs": [
        {
          "output_type": "execute_result",
          "data": {
            "text/html": [
              "<div>\n",
              "<style scoped>\n",
              "    .dataframe tbody tr th:only-of-type {\n",
              "        vertical-align: middle;\n",
              "    }\n",
              "\n",
              "    .dataframe tbody tr th {\n",
              "        vertical-align: top;\n",
              "    }\n",
              "\n",
              "    .dataframe thead th {\n",
              "        text-align: right;\n",
              "    }\n",
              "</style>\n",
              "<table border=\"1\" class=\"dataframe\">\n",
              "  <thead>\n",
              "    <tr style=\"text-align: right;\">\n",
              "      <th></th>\n",
              "      <th>Description</th>\n",
              "      <th>Department</th>\n",
              "      <th>tokenized_description</th>\n",
              "    </tr>\n",
              "  </thead>\n",
              "  <tbody>\n",
              "    <tr>\n",
              "      <th>7889799</th>\n",
              "      <td>Greeting to alldear applicant we are hiring fo...</td>\n",
              "      <td>Operations</td>\n",
              "      <td>[greet, alldear, applic, hire, bussi, develop,...</td>\n",
              "    </tr>\n",
              "    <tr>\n",
              "      <th>7891497</th>\n",
              "      <td>URGENTLY REQUIRE A HOUSE DRIVER FOR KSA KINGDO...</td>\n",
              "      <td>Ticketing</td>\n",
              "      <td>[urgent, requir, A, hous, driver, for, ksa, ki...</td>\n",
              "    </tr>\n",
              "    <tr>\n",
              "      <th>7889935</th>\n",
              "      <td>We are urgently looking for suitable candidate...</td>\n",
              "      <td>Ticketing</td>\n",
              "      <td>[We, urgent, look, suitabl, candid, profil, tr...</td>\n",
              "    </tr>\n",
              "    <tr>\n",
              "      <th>7894969</th>\n",
              "      <td>The following is the JD regarding the samenbsp...</td>\n",
              "      <td>Ticketing</td>\n",
              "      <td>[the, follow, JD, regard, samenbspnbspsector, ...</td>\n",
              "    </tr>\n",
              "    <tr>\n",
              "      <th>7888001</th>\n",
              "      <td>Designation SrAccountnbspExecutive ONLY FOR MA...</td>\n",
              "      <td>Finance</td>\n",
              "      <td>[design, sraccountnbspexecut, onli, for, male,...</td>\n",
              "    </tr>\n",
              "  </tbody>\n",
              "</table>\n",
              "</div>"
            ],
            "text/plain": [
              "                                               Description  ...                              tokenized_description\n",
              "7889799  Greeting to alldear applicant we are hiring fo...  ...  [greet, alldear, applic, hire, bussi, develop,...\n",
              "7891497  URGENTLY REQUIRE A HOUSE DRIVER FOR KSA KINGDO...  ...  [urgent, requir, A, hous, driver, for, ksa, ki...\n",
              "7889935  We are urgently looking for suitable candidate...  ...  [We, urgent, look, suitabl, candid, profil, tr...\n",
              "7894969  The following is the JD regarding the samenbsp...  ...  [the, follow, JD, regard, samenbspnbspsector, ...\n",
              "7888001  Designation SrAccountnbspExecutive ONLY FOR MA...  ...  [design, sraccountnbspexecut, onli, for, male,...\n",
              "\n",
              "[5 rows x 3 columns]"
            ]
          },
          "metadata": {
            "tags": []
          },
          "execution_count": 29
        }
      ]
    },
    {
      "cell_type": "markdown",
      "metadata": {
        "colab_type": "text",
        "id": "-Xls1QR7M_Tm"
      },
      "source": [
        "### Lemmetizing"
      ]
    },
    {
      "cell_type": "code",
      "metadata": {
        "colab_type": "code",
        "id": "RRzw67F_NNj0",
        "outputId": "2077e6a7-4742-4ab8-e316-4a150e8b994b",
        "colab": {
          "base_uri": "https://localhost:8080/",
          "height": 136
        }
      },
      "source": [
        "nltk.download('averaged_perceptron_tagger')\n",
        "nltk.download('wordnet')"
      ],
      "execution_count": 0,
      "outputs": [
        {
          "output_type": "stream",
          "text": [
            "[nltk_data] Downloading package averaged_perceptron_tagger to\n",
            "[nltk_data]     /root/nltk_data...\n",
            "[nltk_data]   Package averaged_perceptron_tagger is already up-to-\n",
            "[nltk_data]       date!\n",
            "[nltk_data] Downloading package wordnet to /root/nltk_data...\n",
            "[nltk_data]   Package wordnet is already up-to-date!\n"
          ],
          "name": "stdout"
        },
        {
          "output_type": "execute_result",
          "data": {
            "text/plain": [
              "True"
            ]
          },
          "metadata": {
            "tags": []
          },
          "execution_count": 30
        }
      ]
    },
    {
      "cell_type": "code",
      "metadata": {
        "colab_type": "code",
        "id": "A0LGM1BrNAjG",
        "colab": {}
      },
      "source": [
        "from nltk import WordNetLemmatizer,pos_tag\n",
        "wn1=WordNetLemmatizer()\n",
        "def penn2morphy(penntag):\n",
        "    morphy_tag = {'NN':'n', 'JJ':'a',\n",
        "                  'VB':'v', 'RB':'r'}\n",
        "    try:\n",
        "        return morphy_tag[penntag[:2]]\n",
        "    except:\n",
        "        return 'n' \n",
        "    \n",
        "def text_lemmatizer(text):\n",
        "    return [wn1.lemmatize(word.lower(), pos=penn2morphy(tag)) \n",
        "            for word, tag in pos_tag(text)]"
      ],
      "execution_count": 0,
      "outputs": []
    },
    {
      "cell_type": "code",
      "metadata": {
        "colab_type": "code",
        "id": "lbqUm4nqND2a",
        "colab": {}
      },
      "source": [
        "df['tokenized_description']=df['tokenized_description'].apply(lambda x: text_lemmatizer(x))"
      ],
      "execution_count": 0,
      "outputs": []
    },
    {
      "cell_type": "code",
      "metadata": {
        "colab_type": "code",
        "id": "CCVkw1dtNJu1",
        "outputId": "3fa85fac-4aef-4bcd-978c-be8dd0c519d7",
        "colab": {
          "base_uri": "https://localhost:8080/",
          "height": 204
        }
      },
      "source": [
        "df.head()"
      ],
      "execution_count": 0,
      "outputs": [
        {
          "output_type": "execute_result",
          "data": {
            "text/html": [
              "<div>\n",
              "<style scoped>\n",
              "    .dataframe tbody tr th:only-of-type {\n",
              "        vertical-align: middle;\n",
              "    }\n",
              "\n",
              "    .dataframe tbody tr th {\n",
              "        vertical-align: top;\n",
              "    }\n",
              "\n",
              "    .dataframe thead th {\n",
              "        text-align: right;\n",
              "    }\n",
              "</style>\n",
              "<table border=\"1\" class=\"dataframe\">\n",
              "  <thead>\n",
              "    <tr style=\"text-align: right;\">\n",
              "      <th></th>\n",
              "      <th>Description</th>\n",
              "      <th>Department</th>\n",
              "      <th>tokenized_description</th>\n",
              "    </tr>\n",
              "  </thead>\n",
              "  <tbody>\n",
              "    <tr>\n",
              "      <th>7889799</th>\n",
              "      <td>Greeting to alldear applicant we are hiring fo...</td>\n",
              "      <td>Operations</td>\n",
              "      <td>[greet, alldear, applic, hire, bussi, develop,...</td>\n",
              "    </tr>\n",
              "    <tr>\n",
              "      <th>7891497</th>\n",
              "      <td>URGENTLY REQUIRE A HOUSE DRIVER FOR KSA KINGDO...</td>\n",
              "      <td>Ticketing</td>\n",
              "      <td>[urgent, requir, a, hous, driver, for, ksa, ki...</td>\n",
              "    </tr>\n",
              "    <tr>\n",
              "      <th>7889935</th>\n",
              "      <td>We are urgently looking for suitable candidate...</td>\n",
              "      <td>Ticketing</td>\n",
              "      <td>[we, urgent, look, suitabl, candid, profil, tr...</td>\n",
              "    </tr>\n",
              "    <tr>\n",
              "      <th>7894969</th>\n",
              "      <td>The following is the JD regarding the samenbsp...</td>\n",
              "      <td>Ticketing</td>\n",
              "      <td>[the, follow, jd, regard, samenbspnbspsector, ...</td>\n",
              "    </tr>\n",
              "    <tr>\n",
              "      <th>7888001</th>\n",
              "      <td>Designation SrAccountnbspExecutive ONLY FOR MA...</td>\n",
              "      <td>Finance</td>\n",
              "      <td>[design, sraccountnbspexecut, onli, for, male,...</td>\n",
              "    </tr>\n",
              "  </tbody>\n",
              "</table>\n",
              "</div>"
            ],
            "text/plain": [
              "                                               Description  ...                              tokenized_description\n",
              "7889799  Greeting to alldear applicant we are hiring fo...  ...  [greet, alldear, applic, hire, bussi, develop,...\n",
              "7891497  URGENTLY REQUIRE A HOUSE DRIVER FOR KSA KINGDO...  ...  [urgent, requir, a, hous, driver, for, ksa, ki...\n",
              "7889935  We are urgently looking for suitable candidate...  ...  [we, urgent, look, suitabl, candid, profil, tr...\n",
              "7894969  The following is the JD regarding the samenbsp...  ...  [the, follow, jd, regard, samenbspnbspsector, ...\n",
              "7888001  Designation SrAccountnbspExecutive ONLY FOR MA...  ...  [design, sraccountnbspexecut, onli, for, male,...\n",
              "\n",
              "[5 rows x 3 columns]"
            ]
          },
          "metadata": {
            "tags": []
          },
          "execution_count": 33
        }
      ]
    },
    {
      "cell_type": "markdown",
      "metadata": {
        "colab_type": "text",
        "id": "fkPnrKAeKjRi"
      },
      "source": [
        "##Exploratory Data Analysis\n"
      ]
    },
    {
      "cell_type": "markdown",
      "metadata": {
        "colab_type": "text",
        "id": "R8C_otNslfgP"
      },
      "source": [
        "Here we have found the distributions of Departments in our data"
      ]
    },
    {
      "cell_type": "code",
      "metadata": {
        "colab_type": "code",
        "id": "Gkzn_5dNrhSv",
        "colab": {}
      },
      "source": [
        " import seaborn as sns"
      ],
      "execution_count": 0,
      "outputs": []
    },
    {
      "cell_type": "code",
      "metadata": {
        "colab_type": "code",
        "id": "5XqwtXH-Kr_N",
        "colab": {}
      },
      "source": [
        "def category_counter(column):\n",
        "    y=df[column].value_counts()\n",
        "    x=set(df[column].values)\n",
        "    print(y)"
      ],
      "execution_count": 0,
      "outputs": []
    },
    {
      "cell_type": "code",
      "metadata": {
        "colab_type": "code",
        "id": "Qk9a26J8Kuwl",
        "outputId": "d33fb977-53bc-4fc9-d1ed-9ba281eb0d3e",
        "colab": {
          "base_uri": "https://localhost:8080/",
          "height": 776
        }
      },
      "source": [
        "category_counter('Department')\n",
        "sns.countplot(x=\"Department\", data=df)"
      ],
      "execution_count": 0,
      "outputs": [
        {
          "output_type": "stream",
          "text": [
            "Ticketing                          230\n",
            "Sales                              148\n",
            "Digital Marketing                  132\n",
            "Customer service                    49\n",
            "Marketing                           30\n",
            "Finance                             26\n",
            "Operations                          25\n",
            "Back office ticketing               16\n",
            "Administration                      15\n",
            "IT                                  13\n",
            "Technology                          10\n",
            "Presales                            10\n",
            "Maintenance                          8\n",
            "Public Relations                     5\n",
            "Recruitment                          5\n",
            "Engineering Design Construction      4\n",
            "Logistics                            3\n",
            "Marine Engineering                   3\n",
            "Analytics                            2\n",
            "Marine Deck                          2\n",
            "Content                              2\n",
            "Data entry                           2\n",
            "Learning and Development             1\n",
            "Marine Service Steward               1\n",
            "Flight Operations                    1\n",
            "Airline Ground Operations            1\n",
            "Procurement                          1\n",
            "Name: Department, dtype: int64\n"
          ],
          "name": "stdout"
        },
        {
          "output_type": "execute_result",
          "data": {
            "text/plain": [
              "<matplotlib.axes._subplots.AxesSubplot at 0x7f3bf75dc6d8>"
            ]
          },
          "metadata": {
            "tags": []
          },
          "execution_count": 36
        },
        {
          "output_type": "display_data",
          "data": {
            "image/png": "[encoded data removed]",
            "text/plain": [
              "<Figure size 432x288 with 1 Axes>"
            ]
          },
          "metadata": {
            "tags": []
          }
        }
      ]
    },
    {
      "cell_type": "markdown",
      "metadata": {
        "colab_type": "text",
        "id": "PGTRfpDEldC0"
      },
      "source": [
        "So here if you observe there is a serious problem of class imbalance. So we have used SMOTE to increase the dataset and for that evrey department should have atleast two samples. So for the classes having single sample we have duplicated them in the folllowing cells. "
      ]
    },
    {
      "cell_type": "code",
      "metadata": {
        "colab_type": "code",
        "id": "Zg6wLpShReX2",
        "colab": {}
      },
      "source": [
        "df = df.append(df.loc[df['Department'] == \"Marine Service Steward \"])\n",
        "df = df.append(df.loc[df['Department'] == \"Learning and Development \"])\n",
        "df = df.append(df.loc[df['Department'] == \"Flight Operations\"])\n",
        "df = df.append(df.loc[df['Department'] == \"Procurement\"])\n",
        "df = df.append(df.loc[df['Department'] == \"Airline Ground Operations\"])"
      ],
      "execution_count": 0,
      "outputs": []
    },
    {
      "cell_type": "code",
      "metadata": {
        "colab_type": "code",
        "id": "36Ac1NosSmUF",
        "outputId": "b0820d1f-e9d3-4963-fe6c-1a7258a15e68",
        "colab": {
          "base_uri": "https://localhost:8080/",
          "height": 776
        }
      },
      "source": [
        "category_counter('Department')\n",
        "sns.countplot(x=\"Department\", data=df)"
      ],
      "execution_count": 0,
      "outputs": [
        {
          "output_type": "stream",
          "text": [
            "Ticketing                          230\n",
            "Sales                              148\n",
            "Digital Marketing                  132\n",
            "Customer service                    49\n",
            "Marketing                           30\n",
            "Finance                             26\n",
            "Operations                          25\n",
            "Back office ticketing               16\n",
            "Administration                      15\n",
            "IT                                  13\n",
            "Presales                            10\n",
            "Technology                          10\n",
            "Maintenance                          8\n",
            "Recruitment                          5\n",
            "Public Relations                     5\n",
            "Engineering Design Construction      4\n",
            "Marine Engineering                   3\n",
            "Logistics                            3\n",
            "Learning and Development             2\n",
            "Procurement                          2\n",
            "Marine Service Steward               2\n",
            "Marine Deck                          2\n",
            "Flight Operations                    2\n",
            "Airline Ground Operations            2\n",
            "Content                              2\n",
            "Data entry                           2\n",
            "Analytics                            2\n",
            "Name: Department, dtype: int64\n"
          ],
          "name": "stdout"
        },
        {
          "output_type": "execute_result",
          "data": {
            "text/plain": [
              "<matplotlib.axes._subplots.AxesSubplot at 0x7f3bf74e9240>"
            ]
          },
          "metadata": {
            "tags": []
          },
          "execution_count": 38
        },
        {
          "output_type": "display_data",
          "data": {
            "image/png": "[encoded data removed]",
            "text/plain": [
              "<Figure size 432x288 with 1 Axes>"
            ]
          },
          "metadata": {
            "tags": []
          }
        }
      ]
    },
    {
      "cell_type": "markdown",
      "metadata": {
        "colab_type": "text",
        "id": "t1Ms5r9ZNdnn"
      },
      "source": [
        "## Modelling and Evaluation"
      ]
    },
    {
      "cell_type": "markdown",
      "metadata": {
        "colab_type": "text",
        "id": "NMoOZ3d9LcAY"
      },
      "source": [
        "### Label Encoding the column 'Department'"
      ]
    },
    {
      "cell_type": "code",
      "metadata": {
        "colab_type": "code",
        "id": "PYYYXznzsAvB",
        "outputId": "838a8082-5ea8-42e6-cf36-144698e1fe76",
        "colab": {
          "base_uri": "https://localhost:8080/",
          "height": 34
        }
      },
      "source": [
        "from sklearn.preprocessing import LabelEncoder\n",
        "from keras.preprocessing.text import Tokenizer"
      ],
      "execution_count": 0,
      "outputs": [
        {
          "output_type": "stream",
          "text": [
            "Using TensorFlow backend.\n"
          ],
          "name": "stderr"
        }
      ]
    },
    {
      "cell_type": "code",
      "metadata": {
        "colab_type": "code",
        "id": "AHpKzbfoLhDn",
        "colab": {}
      },
      "source": [
        "le=LabelEncoder()\n",
        "df['Department']=le.fit_transform(df['Department'])"
      ],
      "execution_count": 0,
      "outputs": []
    },
    {
      "cell_type": "code",
      "metadata": {
        "colab_type": "code",
        "id": "_zqgQHmbLklA",
        "outputId": "08655620-8963-420c-c327-266b03d9e199",
        "colab": {
          "base_uri": "https://localhost:8080/",
          "height": 119
        }
      },
      "source": [
        "df['Department'].head()"
      ],
      "execution_count": 0,
      "outputs": [
        {
          "output_type": "execute_result",
          "data": {
            "text/plain": [
              "7889799    19\n",
              "7891497    26\n",
              "7889935    26\n",
              "7894969    26\n",
              "7888001     9\n",
              "Name: Department, dtype: int64"
            ]
          },
          "metadata": {
            "tags": []
          },
          "execution_count": 41
        }
      ]
    },
    {
      "cell_type": "markdown",
      "metadata": {
        "colab_type": "text",
        "id": "V31Oz05Bdg1y"
      },
      "source": [
        "Here , I have developed a keras model to classify the text. The following are the layers that i have developed.\n",
        "\n",
        "1. Word Embedding Layer\n",
        "2. LSTM Layer \n",
        "3. Dense Layer\n",
        "\n"
      ]
    },
    {
      "cell_type": "markdown",
      "metadata": {
        "colab_type": "text",
        "id": "swGeM9XRfC7j"
      },
      "source": [
        "The next following few cells contains processing of data , so that it fits in the Embedding Layer.\n",
        "\n",
        "So Here we convert our words in the text into integers using Tokenizer class and stored in X_data variable. "
      ]
    },
    {
      "cell_type": "code",
      "metadata": {
        "colab_type": "code",
        "id": "aIE6wTyINkYW",
        "colab": {}
      },
      "source": [
        "\n",
        "tokenizer=Tokenizer()\n",
        "tokenizer.fit_on_texts(df.tokenized_description)\n",
        "X_data=tokenizer.texts_to_sequences(df.tokenized_description)"
      ],
      "execution_count": 0,
      "outputs": []
    },
    {
      "cell_type": "markdown",
      "metadata": {
        "colab_type": "text",
        "id": "8ih0A4Q6fpKY"
      },
      "source": [
        "Here we have counted unique words in our whole text data."
      ]
    },
    {
      "cell_type": "code",
      "metadata": {
        "colab_type": "code",
        "id": "TVJ3kcUFNyYu",
        "outputId": "61d90d8d-7a78-44f5-8391-2af2d0c0d40c",
        "colab": {
          "base_uri": "https://localhost:8080/",
          "height": 51
        }
      },
      "source": [
        "word_index = tokenizer.word_index\n",
        "print(type(word_index))\n",
        "print('Total %s unique tokens.' % len(word_index))"
      ],
      "execution_count": 0,
      "outputs": [
        {
          "output_type": "stream",
          "text": [
            "<class 'dict'>\n",
            "Total 7157 unique tokens.\n"
          ],
          "name": "stdout"
        }
      ]
    },
    {
      "cell_type": "markdown",
      "metadata": {
        "colab_type": "text",
        "id": "TdzNOP7rhd7z"
      },
      "source": [
        "Next we have taken glove GloVe word embedding file into memory as a dictionary of word to embedding array\n",
        "\n",
        "embed_size is the size of the dense vector in the wor to vec conversion.\n"
      ]
    },
    {
      "cell_type": "code",
      "metadata": {
        "colab_type": "code",
        "id": "v_rYwEyAOBxp",
        "colab": {}
      },
      "source": [
        "embed_size=50\n",
        "input_length=100"
      ],
      "execution_count": 0,
      "outputs": []
    },
    {
      "cell_type": "code",
      "metadata": {
        "colab_type": "code",
        "id": "TOv7KS-VOOOz",
        "outputId": "7c13ebae-b61b-4e3b-ede6-a4463eb5d998",
        "colab": {
          "base_uri": "https://localhost:8080/",
          "height": 34
        }
      },
      "source": [
        "embeddings_index = {}\n",
        "f = open('drive/My Drive/data/glove.6B.50d.txt')\n",
        "for line in f:\n",
        "    values = line.split()\n",
        "    word = values[0]\n",
        "    coefs = np.asarray(values[1:], dtype='float32')\n",
        "    embeddings_index[word] = coefs\n",
        "f.close()\n",
        "print('Total %s word vectors.' % len(embeddings_index))"
      ],
      "execution_count": 0,
      "outputs": [
        {
          "output_type": "stream",
          "text": [
            "Total 400000 word vectors.\n"
          ],
          "name": "stdout"
        }
      ]
    },
    {
      "cell_type": "markdown",
      "metadata": {
        "colab_type": "text",
        "id": "f1QshhdRiLt5"
      },
      "source": [
        "An embedding matrix is generated where each word in our text file is mapped to a dense vector. The number of absent words of our text in Glove is also printed."
      ]
    },
    {
      "cell_type": "code",
      "metadata": {
        "colab_type": "code",
        "id": "9HGMnU0NxAcp",
        "outputId": "933268a0-dbf4-4783-955e-c084fa652e73",
        "colab": {
          "base_uri": "https://localhost:8080/",
          "height": 34
        }
      },
      "source": [
        "embedding_matrix = np.zeros((len(word_index) + 1, embed_size))\n",
        "absent_words = 0\n",
        "for word, i in word_index.items():\n",
        "    embedding_vector = embeddings_index.get(word)\n",
        "    if embedding_vector is not None:\n",
        "        # words not found in embedding index will be all-zeros.\n",
        "        embedding_matrix[i] = embedding_vector\n",
        "    else:\n",
        "        absent_words += 1\n",
        "print('Total absent words are', absent_words, 'which is', \"%0.2f\" % (absent_words * 100 / len(word_index)), '% of total words')"
      ],
      "execution_count": 0,
      "outputs": [
        {
          "output_type": "stream",
          "text": [
            "Total absent words are 5341 which is 74.63 % of total words\n"
          ],
          "name": "stdout"
        }
      ]
    },
    {
      "cell_type": "markdown",
      "metadata": {
        "colab_type": "text",
        "id": "GE-vKH8exUWT"
      },
      "source": [
        "### Model Layers"
      ]
    },
    {
      "cell_type": "code",
      "metadata": {
        "colab_type": "code",
        "id": "Y2AxEY9vJlO5",
        "colab": {}
      },
      "source": [
        "from keras.layers import Embedding\n",
        "from keras.preprocessing import sequence\n",
        "from keras import utils\n",
        "from imblearn.over_sampling import SMOTE\n",
        "from keras.layers import Input , Dense , LSTM,GlobalAveragePooling1D,GlobalMaxPooling1D,Bidirectional,LSTM,Conv1D\n",
        "from keras.layers import GlobalAveragePooling1D, BatchNormalization, concatenate\n",
        "from keras.layers import Reshape, merge, Concatenate, Lambda, Average\n",
        "from keras.models import Sequential, Model, load_model\n",
        "from sklearn.utils import shuffle\n",
        "from sklearn.model_selection import train_test_split"
      ],
      "execution_count": 0,
      "outputs": []
    },
    {
      "cell_type": "markdown",
      "metadata": {
        "colab_type": "text",
        "id": "EQJUFT1Wf7Qu"
      },
      "source": [
        "Input Sequences to the Embedding Layer will be of different length and Keras prefers them to be of same length.\n",
        "\n",
        "max_senten_length is that length of maximum words in an input sequence. and all input sequences are padded to have that length.\n",
        "\n"
      ]
    },
    {
      "cell_type": "code",
      "metadata": {
        "colab_type": "code",
        "id": "J5AZAVjew1I_",
        "colab": {}
      },
      "source": [
        "max_features=200000\n",
        "max_senten_len=75\n",
        "max_senten_num=4\n",
        "embed_size=50"
      ],
      "execution_count": 0,
      "outputs": []
    },
    {
      "cell_type": "markdown",
      "metadata": {
        "colab_type": "text",
        "id": "wIuI0yO_jLen"
      },
      "source": [
        "Word Embedding Layer in Keras"
      ]
    },
    {
      "cell_type": "code",
      "metadata": {
        "colab_type": "code",
        "id": "b5p3EO24xgAx",
        "colab": {}
      },
      "source": [
        "\n",
        "embedding_layer = Embedding(len(word_index)+1,\n",
        "                            embed_size,\n",
        "                            input_length=max_senten_len,\n",
        "                            trainable=False)"
      ],
      "execution_count": 0,
      "outputs": []
    },
    {
      "cell_type": "markdown",
      "metadata": {
        "colab_type": "text",
        "id": "o61bz7ZvjQO_"
      },
      "source": [
        "Padding is done to our description data in the following cell so that input sequence have same length"
      ]
    },
    {
      "cell_type": "code",
      "metadata": {
        "colab_type": "code",
        "id": "HKpqEuMjxnzs",
        "colab": {}
      },
      "source": [
        "\n",
        "X = list(sequence.pad_sequences(X_data, maxlen=max_senten_len))"
      ],
      "execution_count": 0,
      "outputs": []
    },
    {
      "cell_type": "code",
      "metadata": {
        "colab_type": "code",
        "id": "rRdg0-Bcxs8L",
        "outputId": "63adbf83-aca4-4d23-e209-393194e45e95",
        "colab": {
          "base_uri": "https://localhost:8080/",
          "height": 102
        }
      },
      "source": [
        "\n",
        "print(len(X))\n",
        "X=np.array(X)\n",
        "print(X.shape)\n",
        "Y=utils.np_utils.to_categorical(df.Department)\n",
        "print(Y.shape)\n",
        "print(Y[0])"
      ],
      "execution_count": 0,
      "outputs": [
        {
          "output_type": "stream",
          "text": [
            "750\n",
            "(750, 75)\n",
            "(750, 27)\n",
            "[0. 0. 0. 0. 0. 0. 0. 0. 0. 0. 0. 0. 0. 0. 0. 0. 0. 0. 0. 1. 0. 0. 0. 0.\n",
            " 0. 0. 0.]\n"
          ],
          "name": "stdout"
        }
      ]
    },
    {
      "cell_type": "markdown",
      "metadata": {
        "colab_type": "text",
        "id": "P_lQee5ajz6T"
      },
      "source": [
        "As there is a problem of class imbalance SMOTE from imblearn is used to balnce the datasets among classes."
      ]
    },
    {
      "cell_type": "code",
      "metadata": {
        "colab_type": "code",
        "id": "M0kjFavJTg_R",
        "colab": {}
      },
      "source": [
        "sm = SMOTE(random_state=42,k_neighbors=1)\n",
        "X_res, Y_res = sm.fit_resample(X, Y)"
      ],
      "execution_count": 0,
      "outputs": []
    },
    {
      "cell_type": "markdown",
      "metadata": {
        "colab_type": "text",
        "id": "FcElCJiRj5Z9"
      },
      "source": [
        "Shuffling and Splitting the data into train and test data"
      ]
    },
    {
      "cell_type": "code",
      "metadata": {
        "colab_type": "code",
        "id": "ukHxBKUkxwAu",
        "colab": {}
      },
      "source": [
        "X,Y = shuffle(X,Y)\n",
        "X_train,X_test,Y_train,Y_test=train_test_split(X_res,Y_res,test_size=0.25)"
      ],
      "execution_count": 0,
      "outputs": []
    },
    {
      "cell_type": "markdown",
      "metadata": {
        "colab_type": "text",
        "id": "4dwqsgH8kEXU"
      },
      "source": [
        "Modelling our layers of our keras model"
      ]
    },
    {
      "cell_type": "code",
      "metadata": {
        "colab_type": "code",
        "id": "EEaz0Q5yx_1C",
        "colab": {}
      },
      "source": [
        "def classifier():\n",
        "    inp = Input(shape=(max_senten_len,), dtype='int32')\n",
        "    x = embedding_layer(inp)\n",
        "    x = Bidirectional(LSTM(128, return_sequences=False, dropout=0.1, recurrent_dropout=0.1))(x)\n",
        "    outp = Dense(27, activation=\"softmax\")(x)\n",
        "    BiLSTM = Model(inp, outp)\n",
        "    BiLSTM.compile(loss='categorical_crossentropy', optimizer='sgd', metrics=['acc'])\n",
        "    print(BiLSTM.summary())\n",
        "    return BiLSTM"
      ],
      "execution_count": 0,
      "outputs": []
    },
    {
      "cell_type": "markdown",
      "metadata": {
        "colab_type": "text",
        "id": "YLq6dpwHkMDs"
      },
      "source": [
        "**Model Summary** "
      ]
    },
    {
      "cell_type": "code",
      "metadata": {
        "colab_type": "code",
        "id": "q1lgOVZYyDTi",
        "outputId": "a0c26d88-ca16-4bf5-9f0d-aeb8ad787120",
        "colab": {
          "base_uri": "https://localhost:8080/",
          "height": 411
        }
      },
      "source": [
        "model1=classifier()"
      ],
      "execution_count": 0,
      "outputs": [
        {
          "output_type": "stream",
          "text": [
            "WARNING:tensorflow:From /usr/local/lib/python3.6/dist-packages/tensorflow/python/framework/op_def_library.py:263: colocate_with (from tensorflow.python.framework.ops) is deprecated and will be removed in a future version.\n",
            "Instructions for updating:\n",
            "Colocations handled automatically by placer.\n",
            "WARNING:tensorflow:From /usr/local/lib/python3.6/dist-packages/keras/backend/tensorflow_backend.py:3445: calling dropout (from tensorflow.python.ops.nn_ops) with keep_prob is deprecated and will be removed in a future version.\n",
            "Instructions for updating:\n",
            "Please use `rate` instead of `keep_prob`. Rate should be set to `rate = 1 - keep_prob`.\n",
            "_________________________________________________________________\n",
            "Layer (type)                 Output Shape              Param #   \n",
            "=================================================================\n",
            "input_1 (InputLayer)         (None, 75)                0         \n",
            "_________________________________________________________________\n",
            "embedding_1 (Embedding)      (None, 75, 50)            357900    \n",
            "_________________________________________________________________\n",
            "bidirectional_1 (Bidirection (None, 256)               183296    \n",
            "_________________________________________________________________\n",
            "dense_1 (Dense)              (None, 27)                6939      \n",
            "=================================================================\n",
            "Total params: 548,135\n",
            "Trainable params: 190,235\n",
            "Non-trainable params: 357,900\n",
            "_________________________________________________________________\n",
            "None\n"
          ],
          "name": "stdout"
        }
      ]
    },
    {
      "cell_type": "code",
      "metadata": {
        "colab_type": "code",
        "id": "ON14MZl6yKCN",
        "outputId": "28c3fe3f-e61b-419a-f302-7183cfda5cd2",
        "colab": {
          "base_uri": "https://localhost:8080/",
          "height": 3505
        }
      },
      "source": [
        "histo=model1.fit(X_train,Y_train,batch_size=32,epochs=100,validation_data=[X_test,Y_test])"
      ],
      "execution_count": 0,
      "outputs": [
        {
          "output_type": "stream",
          "text": [
            "WARNING:tensorflow:From /usr/local/lib/python3.6/dist-packages/tensorflow/python/ops/math_ops.py:3066: to_int32 (from tensorflow.python.ops.math_ops) is deprecated and will be removed in a future version.\n",
            "Instructions for updating:\n",
            "Use tf.cast instead.\n",
            "Train on 4657 samples, validate on 1553 samples\n",
            "Epoch 1/100\n",
            "4657/4657 [==============================] - 47s 10ms/step - loss: 3.2954 - acc: 0.0382 - val_loss: 3.2952 - val_acc: 0.0206\n",
            "Epoch 2/100\n",
            "4657/4657 [==============================] - 44s 9ms/step - loss: 3.2948 - acc: 0.0588 - val_loss: 3.2950 - val_acc: 0.0245\n",
            "Epoch 3/100\n",
            "4657/4657 [==============================] - 44s 10ms/step - loss: 3.2940 - acc: 0.0462 - val_loss: 3.2949 - val_acc: 0.0592\n",
            "Epoch 4/100\n",
            "4657/4657 [==============================] - 45s 10ms/step - loss: 3.2934 - acc: 0.0726 - val_loss: 3.2947 - val_acc: 0.0625\n",
            "Epoch 5/100\n",
            "4657/4657 [==============================] - 44s 9ms/step - loss: 3.2926 - acc: 0.0769 - val_loss: 3.2945 - val_acc: 0.0586\n",
            "Epoch 6/100\n",
            "4657/4657 [==============================] - 45s 10ms/step - loss: 3.2920 - acc: 0.0721 - val_loss: 3.2942 - val_acc: 0.0586\n",
            "Epoch 7/100\n",
            "4657/4657 [==============================] - 44s 9ms/step - loss: 3.2913 - acc: 0.0730 - val_loss: 3.2938 - val_acc: 0.0580\n",
            "Epoch 8/100\n",
            "4657/4657 [==============================] - 44s 9ms/step - loss: 3.2907 - acc: 0.0814 - val_loss: 3.2934 - val_acc: 0.0580\n",
            "Epoch 9/100\n",
            "4657/4657 [==============================] - 44s 9ms/step - loss: 3.2899 - acc: 0.0782 - val_loss: 3.2929 - val_acc: 0.0605\n",
            "Epoch 10/100\n",
            "4657/4657 [==============================] - 44s 10ms/step - loss: 3.2892 - acc: 0.0760 - val_loss: 3.2923 - val_acc: 0.0612\n",
            "Epoch 11/100\n",
            "4657/4657 [==============================] - 45s 10ms/step - loss: 3.2885 - acc: 0.0861 - val_loss: 3.2917 - val_acc: 0.0586\n",
            "Epoch 12/100\n",
            "4657/4657 [==============================] - 44s 10ms/step - loss: 3.2876 - acc: 0.0857 - val_loss: 3.2911 - val_acc: 0.0573\n",
            "Epoch 13/100\n",
            "4657/4657 [==============================] - 44s 9ms/step - loss: 3.2868 - acc: 0.0749 - val_loss: 3.2903 - val_acc: 0.0592\n",
            "Epoch 14/100\n",
            "4657/4657 [==============================] - 45s 10ms/step - loss: 3.2859 - acc: 0.0827 - val_loss: 3.2894 - val_acc: 0.0592\n",
            "Epoch 15/100\n",
            "4657/4657 [==============================] - 44s 9ms/step - loss: 3.2846 - acc: 0.0840 - val_loss: 3.2884 - val_acc: 0.0580\n",
            "Epoch 16/100\n",
            "4657/4657 [==============================] - 44s 9ms/step - loss: 3.2835 - acc: 0.0870 - val_loss: 3.2872 - val_acc: 0.0560\n",
            "Epoch 17/100\n",
            "4657/4657 [==============================] - 44s 10ms/step - loss: 3.2822 - acc: 0.0818 - val_loss: 3.2857 - val_acc: 0.0554\n",
            "Epoch 18/100\n",
            "4657/4657 [==============================] - 46s 10ms/step - loss: 3.2806 - acc: 0.0816 - val_loss: 3.2839 - val_acc: 0.0560\n",
            "Epoch 19/100\n",
            "4657/4657 [==============================] - 45s 10ms/step - loss: 3.2784 - acc: 0.0784 - val_loss: 3.2815 - val_acc: 0.0567\n",
            "Epoch 20/100\n",
            "4657/4657 [==============================] - 45s 10ms/step - loss: 3.2755 - acc: 0.0885 - val_loss: 3.2779 - val_acc: 0.0560\n",
            "Epoch 21/100\n",
            "4657/4657 [==============================] - 45s 10ms/step - loss: 3.2707 - acc: 0.0898 - val_loss: 3.2716 - val_acc: 0.0515\n",
            "Epoch 22/100\n",
            "4657/4657 [==============================] - 45s 10ms/step - loss: 3.2600 - acc: 0.0887 - val_loss: 3.2521 - val_acc: 0.0779\n",
            "Epoch 23/100\n",
            "4657/4657 [==============================] - 44s 9ms/step - loss: 3.2029 - acc: 0.0953 - val_loss: 3.1462 - val_acc: 0.0766\n",
            "Epoch 24/100\n",
            "4657/4657 [==============================] - 44s 10ms/step - loss: 3.1479 - acc: 0.0949 - val_loss: 3.0955 - val_acc: 0.0934\n",
            "Epoch 25/100\n",
            "4657/4657 [==============================] - 45s 10ms/step - loss: 3.1133 - acc: 0.1056 - val_loss: 3.0825 - val_acc: 0.1397\n",
            "Epoch 26/100\n",
            "4657/4657 [==============================] - 45s 10ms/step - loss: 3.0712 - acc: 0.1080 - val_loss: 3.0460 - val_acc: 0.1056\n",
            "Epoch 27/100\n",
            "4657/4657 [==============================] - 44s 9ms/step - loss: 3.0407 - acc: 0.0951 - val_loss: 3.0048 - val_acc: 0.1024\n",
            "Epoch 28/100\n",
            "4657/4657 [==============================] - 45s 10ms/step - loss: 3.0137 - acc: 0.0973 - val_loss: 2.9873 - val_acc: 0.1024\n",
            "Epoch 29/100\n",
            "4657/4657 [==============================] - 44s 9ms/step - loss: 2.9932 - acc: 0.1001 - val_loss: 2.9785 - val_acc: 0.1017\n",
            "Epoch 30/100\n",
            "4657/4657 [==============================] - 44s 10ms/step - loss: 2.9798 - acc: 0.1022 - val_loss: 2.9612 - val_acc: 0.1017\n",
            "Epoch 31/100\n",
            "4657/4657 [==============================] - 44s 10ms/step - loss: 2.9738 - acc: 0.1029 - val_loss: 2.9629 - val_acc: 0.0985\n",
            "Epoch 32/100\n",
            "4657/4657 [==============================] - 45s 10ms/step - loss: 2.9585 - acc: 0.1123 - val_loss: 2.9459 - val_acc: 0.0940\n",
            "Epoch 33/100\n",
            "4657/4657 [==============================] - 44s 10ms/step - loss: 2.9504 - acc: 0.1110 - val_loss: 2.9360 - val_acc: 0.0940\n",
            "Epoch 34/100\n",
            "4657/4657 [==============================] - 44s 9ms/step - loss: 2.9426 - acc: 0.1127 - val_loss: 2.9262 - val_acc: 0.0882\n",
            "Epoch 35/100\n",
            "4657/4657 [==============================] - 45s 10ms/step - loss: 2.9349 - acc: 0.1170 - val_loss: 2.9389 - val_acc: 0.1108\n",
            "Epoch 36/100\n",
            "4657/4657 [==============================] - 44s 9ms/step - loss: 2.9278 - acc: 0.1224 - val_loss: 2.9114 - val_acc: 0.1217\n",
            "Epoch 37/100\n",
            "4657/4657 [==============================] - 44s 9ms/step - loss: 2.9207 - acc: 0.1316 - val_loss: 2.9201 - val_acc: 0.1159\n",
            "Epoch 38/100\n",
            "4657/4657 [==============================] - 44s 9ms/step - loss: 2.9126 - acc: 0.1256 - val_loss: 2.8967 - val_acc: 0.1571\n",
            "Epoch 39/100\n",
            "4657/4657 [==============================] - 45s 10ms/step - loss: 2.9028 - acc: 0.1445 - val_loss: 2.8946 - val_acc: 0.1867\n",
            "Epoch 40/100\n",
            "4657/4657 [==============================] - 44s 9ms/step - loss: 2.8962 - acc: 0.1411 - val_loss: 2.8999 - val_acc: 0.1449\n",
            "Epoch 41/100\n",
            "4657/4657 [==============================] - 44s 9ms/step - loss: 2.8902 - acc: 0.1533 - val_loss: 2.8797 - val_acc: 0.1500\n",
            "Epoch 42/100\n",
            "4657/4657 [==============================] - 45s 10ms/step - loss: 2.8773 - acc: 0.1535 - val_loss: 2.8546 - val_acc: 0.1848\n",
            "Epoch 43/100\n",
            "4657/4657 [==============================] - 44s 9ms/step - loss: 2.8652 - acc: 0.1604 - val_loss: 2.8420 - val_acc: 0.1153\n",
            "Epoch 44/100\n",
            "4657/4657 [==============================] - 44s 9ms/step - loss: 2.8513 - acc: 0.1555 - val_loss: 2.8269 - val_acc: 0.1462\n",
            "Epoch 45/100\n",
            "4657/4657 [==============================] - 44s 9ms/step - loss: 2.8403 - acc: 0.1533 - val_loss: 2.8600 - val_acc: 0.1713\n",
            "Epoch 46/100\n",
            "4657/4657 [==============================] - 45s 10ms/step - loss: 2.8343 - acc: 0.1608 - val_loss: 2.8502 - val_acc: 0.1481\n",
            "Epoch 47/100\n",
            "4657/4657 [==============================] - 44s 10ms/step - loss: 2.8222 - acc: 0.1572 - val_loss: 2.8041 - val_acc: 0.1668\n",
            "Epoch 48/100\n",
            "4657/4657 [==============================] - 44s 9ms/step - loss: 2.8128 - acc: 0.1671 - val_loss: 2.7975 - val_acc: 0.1771\n",
            "Epoch 49/100\n",
            "4657/4657 [==============================] - 44s 10ms/step - loss: 2.7953 - acc: 0.1628 - val_loss: 2.7633 - val_acc: 0.2260\n",
            "Epoch 50/100\n",
            "4657/4657 [==============================] - 44s 9ms/step - loss: 2.8175 - acc: 0.1714 - val_loss: 2.7548 - val_acc: 0.2279\n",
            "Epoch 51/100\n",
            "4657/4657 [==============================] - 44s 10ms/step - loss: 2.7772 - acc: 0.1720 - val_loss: 2.7618 - val_acc: 0.1468\n",
            "Epoch 52/100\n",
            "4657/4657 [==============================] - 44s 9ms/step - loss: 2.7589 - acc: 0.1905 - val_loss: 2.7290 - val_acc: 0.1964\n",
            "Epoch 53/100\n",
            "4657/4657 [==============================] - 45s 10ms/step - loss: 2.7602 - acc: 0.1933 - val_loss: 2.7289 - val_acc: 0.1642\n",
            "Epoch 54/100\n",
            "4657/4657 [==============================] - 44s 9ms/step - loss: 2.7460 - acc: 0.1928 - val_loss: 2.7095 - val_acc: 0.1938\n",
            "Epoch 55/100\n",
            "4657/4657 [==============================] - 44s 9ms/step - loss: 2.7429 - acc: 0.1849 - val_loss: 2.8071 - val_acc: 0.1120\n",
            "Epoch 56/100\n",
            "4657/4657 [==============================] - 44s 10ms/step - loss: 2.7224 - acc: 0.1999 - val_loss: 2.7009 - val_acc: 0.1436\n",
            "Epoch 57/100\n",
            "4657/4657 [==============================] - 44s 9ms/step - loss: 2.7326 - acc: 0.1948 - val_loss: 2.6775 - val_acc: 0.2440\n",
            "Epoch 58/100\n",
            "4657/4657 [==============================] - 43s 9ms/step - loss: 2.7061 - acc: 0.2137 - val_loss: 2.6640 - val_acc: 0.2357\n",
            "Epoch 59/100\n",
            "4657/4657 [==============================] - 44s 9ms/step - loss: 2.6962 - acc: 0.2006 - val_loss: 2.7469 - val_acc: 0.1165\n",
            "Epoch 60/100\n",
            "4657/4657 [==============================] - 44s 9ms/step - loss: 2.6937 - acc: 0.2008 - val_loss: 2.6771 - val_acc: 0.2144\n",
            "Epoch 61/100\n",
            "4657/4657 [==============================] - 44s 9ms/step - loss: 2.6768 - acc: 0.2195 - val_loss: 2.7259 - val_acc: 0.1320\n",
            "Epoch 62/100\n",
            "4657/4657 [==============================] - 44s 9ms/step - loss: 2.6668 - acc: 0.2066 - val_loss: 2.6175 - val_acc: 0.2524\n",
            "Epoch 63/100\n",
            "4657/4657 [==============================] - 44s 10ms/step - loss: 2.6643 - acc: 0.2177 - val_loss: 2.6339 - val_acc: 0.2556\n",
            "Epoch 64/100\n",
            "4657/4657 [==============================] - 44s 9ms/step - loss: 2.6530 - acc: 0.2265 - val_loss: 2.5966 - val_acc: 0.2389\n",
            "Epoch 65/100\n",
            "4657/4657 [==============================] - 44s 9ms/step - loss: 2.6557 - acc: 0.2076 - val_loss: 2.5928 - val_acc: 0.2473\n",
            "Epoch 66/100\n",
            "4657/4657 [==============================] - 44s 9ms/step - loss: 2.6308 - acc: 0.2197 - val_loss: 2.5995 - val_acc: 0.2003\n",
            "Epoch 67/100\n",
            "4657/4657 [==============================] - 45s 10ms/step - loss: 2.6281 - acc: 0.2229 - val_loss: 2.5735 - val_acc: 0.2350\n",
            "Epoch 68/100\n",
            "4657/4657 [==============================] - 44s 9ms/step - loss: 2.6110 - acc: 0.2257 - val_loss: 2.5680 - val_acc: 0.2550\n",
            "Epoch 69/100\n",
            "4657/4657 [==============================] - 43s 9ms/step - loss: 2.5997 - acc: 0.2308 - val_loss: 2.5540 - val_acc: 0.2576\n",
            "Epoch 70/100\n",
            "4657/4657 [==============================] - 44s 9ms/step - loss: 2.6071 - acc: 0.2270 - val_loss: 2.6070 - val_acc: 0.1874\n",
            "Epoch 71/100\n",
            "4657/4657 [==============================] - 44s 9ms/step - loss: 2.5979 - acc: 0.2373 - val_loss: 2.5497 - val_acc: 0.3065\n",
            "Epoch 72/100\n",
            "4657/4657 [==============================] - 44s 9ms/step - loss: 2.5815 - acc: 0.2401 - val_loss: 2.5313 - val_acc: 0.3046\n",
            "Epoch 73/100\n",
            "4657/4657 [==============================] - 43s 9ms/step - loss: 2.5719 - acc: 0.2532 - val_loss: 2.5650 - val_acc: 0.2176\n",
            "Epoch 74/100\n",
            "4657/4657 [==============================] - 45s 10ms/step - loss: 2.5611 - acc: 0.2407 - val_loss: 2.5360 - val_acc: 0.2737\n",
            "Epoch 75/100\n",
            "4657/4657 [==============================] - 43s 9ms/step - loss: 2.5676 - acc: 0.2431 - val_loss: 2.5354 - val_acc: 0.1912\n",
            "Epoch 76/100\n",
            "4657/4657 [==============================] - 44s 9ms/step - loss: 2.5608 - acc: 0.2493 - val_loss: 2.5617 - val_acc: 0.2176\n",
            "Epoch 77/100\n",
            "4657/4657 [==============================] - 44s 9ms/step - loss: 2.5406 - acc: 0.2538 - val_loss: 2.4875 - val_acc: 0.2769\n",
            "Epoch 78/100\n",
            "4657/4657 [==============================] - 44s 9ms/step - loss: 2.5242 - acc: 0.2630 - val_loss: 2.4789 - val_acc: 0.2891\n",
            "Epoch 79/100\n",
            "4657/4657 [==============================] - 43s 9ms/step - loss: 2.5164 - acc: 0.2583 - val_loss: 2.5864 - val_acc: 0.1951\n",
            "Epoch 80/100\n",
            "4657/4657 [==============================] - 44s 10ms/step - loss: 2.5215 - acc: 0.2615 - val_loss: 2.4622 - val_acc: 0.2608\n",
            "Epoch 81/100\n",
            "4657/4657 [==============================] - 45s 10ms/step - loss: 2.4976 - acc: 0.2714 - val_loss: 2.5422 - val_acc: 0.1906\n",
            "Epoch 82/100\n",
            "4657/4657 [==============================] - 47s 10ms/step - loss: 2.4960 - acc: 0.2645 - val_loss: 2.4513 - val_acc: 0.3323\n",
            "Epoch 83/100\n",
            "4657/4657 [==============================] - 44s 10ms/step - loss: 2.4868 - acc: 0.2800 - val_loss: 2.4463 - val_acc: 0.2833\n",
            "Epoch 84/100\n",
            "4657/4657 [==============================] - 45s 10ms/step - loss: 2.4888 - acc: 0.2723 - val_loss: 2.4631 - val_acc: 0.2962\n",
            "Epoch 85/100\n",
            "4657/4657 [==============================] - 44s 9ms/step - loss: 2.4665 - acc: 0.2785 - val_loss: 2.5055 - val_acc: 0.1790\n",
            "Epoch 86/100\n",
            "4657/4657 [==============================] - 44s 9ms/step - loss: 2.4610 - acc: 0.2682 - val_loss: 2.4152 - val_acc: 0.3026\n",
            "Epoch 87/100\n",
            "4657/4657 [==============================] - 44s 9ms/step - loss: 2.4485 - acc: 0.2843 - val_loss: 2.4277 - val_acc: 0.3123\n",
            "Epoch 88/100\n",
            "4657/4657 [==============================] - 45s 10ms/step - loss: 2.4750 - acc: 0.2888 - val_loss: 2.3886 - val_acc: 0.2917\n",
            "Epoch 89/100\n",
            "4657/4657 [==============================] - 44s 9ms/step - loss: 2.4294 - acc: 0.3058 - val_loss: 2.3789 - val_acc: 0.2891\n",
            "Epoch 90/100\n",
            "4657/4657 [==============================] - 44s 10ms/step - loss: 2.4252 - acc: 0.2832 - val_loss: 2.3772 - val_acc: 0.3303\n",
            "Epoch 91/100\n",
            "4657/4657 [==============================] - 45s 10ms/step - loss: 2.4137 - acc: 0.2961 - val_loss: 2.3639 - val_acc: 0.3046\n",
            "Epoch 92/100\n",
            "4657/4657 [==============================] - 44s 9ms/step - loss: 2.4097 - acc: 0.2948 - val_loss: 2.4360 - val_acc: 0.2666\n",
            "Epoch 93/100\n",
            "4657/4657 [==============================] - 44s 10ms/step - loss: 2.4204 - acc: 0.3071 - val_loss: 3.9377 - val_acc: 0.0541\n",
            "Epoch 94/100\n",
            "4657/4657 [==============================] - 44s 9ms/step - loss: 2.5864 - acc: 0.2585 - val_loss: 2.4924 - val_acc: 0.1951\n",
            "Epoch 95/100\n",
            "4657/4657 [==============================] - 45s 10ms/step - loss: 2.3987 - acc: 0.2867 - val_loss: 2.3366 - val_acc: 0.3342\n",
            "Epoch 96/100\n",
            "4657/4657 [==============================] - 44s 9ms/step - loss: 2.3799 - acc: 0.3094 - val_loss: 2.3257 - val_acc: 0.3091\n",
            "Epoch 97/100\n",
            "4657/4657 [==============================] - 44s 9ms/step - loss: 2.3995 - acc: 0.2931 - val_loss: 2.3900 - val_acc: 0.2827\n",
            "Epoch 98/100\n",
            "4657/4657 [==============================] - 45s 10ms/step - loss: 2.3752 - acc: 0.3285 - val_loss: 2.4650 - val_acc: 0.1816\n",
            "Epoch 99/100\n",
            "4657/4657 [==============================] - 44s 9ms/step - loss: 2.3772 - acc: 0.2922 - val_loss: 2.3204 - val_acc: 0.2968\n",
            "Epoch 100/100\n",
            "4657/4657 [==============================] - 44s 9ms/step - loss: 2.3518 - acc: 0.3150 - val_loss: 2.2932 - val_acc: 0.3187\n"
          ],
          "name": "stdout"
        }
      ]
    },
    {
      "cell_type": "code",
      "metadata": {
        "colab_type": "code",
        "id": "PIo5_GpKyOpk",
        "colab": {}
      },
      "source": [
        "score = model1.evaluate(X_test, Y_test, verbose=0)\n",
        "print(\"%s: %.2f%%\" % (model1.metrics_names[1], score[1]*100))"
      ],
      "execution_count": 0,
      "outputs": []
    },
    {
      "cell_type": "markdown",
      "metadata": {
        "colab_type": "text",
        "id": "3m1GDbKav8AF"
      },
      "source": [
        "**RESULTS SUMMARY**\n",
        "\n",
        "Accuracy on Test Data : 66.32%"
      ]
    }
  ]
}